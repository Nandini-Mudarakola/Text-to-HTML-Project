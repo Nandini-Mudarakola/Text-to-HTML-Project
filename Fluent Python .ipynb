{
 "cells": [
  {
   "cell_type": "markdown",
   "metadata": {},
   "source": [
    "# Chapter 1\n",
    "\n",
    "## The Python Data Model\n",
    "\n",
    "**Data Model**\n",
    "- Description of Python as a framework \n",
    "- Formalizes the interfaces such as sequesnces , iterators , functions , classes , context manager \n",
    "\n",
    "**Method**  \n",
    "- implementing methods that are called by framework and data model \n",
    "- Python interpreter invokes special methods to \n",
    "- Python interpreter triggerd by special syntax\n",
    "- special methods syntax -->  (\\__getitem__\\)"
   ]
  },
  {
   "cell_type": "markdown",
   "metadata": {},
   "source": [
    "**Special Method names**\n",
    "\n",
    "- allows our objects to implement , support , and interact with basic language constructs as such \n",
    "        + Iteration\n",
    "        + Collection \n",
    "        + Attribute access\n",
    "        + Operator Overloading \n",
    "        + Function and method invocation\n",
    "        + Object creation \n",
    "        + String representation \n",
    "        + Managed contexts (with blocks)\n",
    "        \n",
    "  **Note :** All data in a Python program is represented by objects or by relations between objects.\n",
    "  \n",
    "  \n",
    "  "
   ]
  },
  {
   "cell_type": "markdown",
   "metadata": {},
   "source": [
    "**Magic and Dunder**\n",
    "- a slang for special method \n",
    "- Pronounce it --> (\\__getitem__\\) --> \"dunder-getitem\"\n",
    "- for the upper reason , special methods are also known as dunder method "
   ]
  },
  {
   "cell_type": "markdown",
   "metadata": {},
   "source": [
    "# CPython\n",
    "\n",
    "- Written in C and Python,\n",
    "- CPython is the default and most widely used implementation of the Python language. \n",
    "- can be defined as both an interpreter and a compiler as it compiles Python code into bytecode before interpreting it\n",
    "- has a foreign function interface with several languages, including C\n",
    "\n",
    "Python code --> byte code by cpython --> machine readable\n",
    "\n",
    "**CPython implementation detail:** \n",
    "\n",
    "For CPython, id(x) is the memory address where x is stored.\n",
    "\n",
    "CPython currently uses a reference-counting scheme with (optional) delayed detection of cyclically linked garbage, which collects most objects as soon as they become unreachable, but is not guaranteed to collect garbage containing circular references.\n",
    "\n",
    "Some objects contain references to “external” resources such as open files or windows. It is understood that these resources are freed when the object is garbage-collected, but since garbage collection is not guaranteed to happen, such objects also provide an explicit way to release the external resource, usually a close() method. Programs are strongly recommended to explicitly close such objects. \n",
    "\n",
    "The ‘try…finally’ statement and the ‘with’ statement provide convenient ways to do this.\n",
    "\n",
    "- Objects whose value can change are said to be mutable\n",
    "- value is unchangeable once they are created are called immutable\n",
    "- An object’s mutability is determined by its type; \n",
    "- for instance, numbers, strings and tuples are immutable, \n",
    "- while dictionaries and lists are mutable.\n",
    "\n",
    "Some objects contain references to other objects; these are called containers. Examples of containers are tuples, lists and dictionaries. The references are part of a container’s value. In most cases, when we talk about the value of a container, we imply the values, not the identities of the contained objects; however, when we talk about the mutability of a container, only the identities of the immediately contained objects are implied. So, if an immutable container (like a tuple) contains a reference to a mutable object, its value changes if that mutable object is changed.\n",
    "\n",
    "\n"
   ]
  },
  {
   "cell_type": "markdown",
   "metadata": {},
   "source": [
    "# A Pythonic Card Deck\n",
    "\n",
    "*Example 1-1*\n"
   ]
  },
  {
   "cell_type": "code",
   "execution_count": 27,
   "metadata": {},
   "outputs": [],
   "source": [
    "import collections"
   ]
  },
  {
   "cell_type": "code",
   "execution_count": 28,
   "metadata": {},
   "outputs": [],
   "source": [
    "#to construct a simple class to represent individual cards\n",
    "Card=collections.namedtuple('Card',['rank','suite'])"
   ]
  },
  {
   "cell_type": "code",
   "execution_count": 19,
   "metadata": {},
   "outputs": [
    {
     "data": {
      "text/plain": [
       "Card(rank=[1, 2, 3], suite=['a', 'b', 'c'])"
      ]
     },
     "execution_count": 19,
     "metadata": {},
     "output_type": "execute_result"
    }
   ],
   "source": [
    "Card([1,2,3],['a','b','c'])"
   ]
  },
  {
   "cell_type": "code",
   "execution_count": 20,
   "metadata": {},
   "outputs": [
    {
     "data": {
      "text/plain": [
       "type"
      ]
     },
     "execution_count": 20,
     "metadata": {},
     "output_type": "execute_result"
    }
   ],
   "source": [
    "type(Card)"
   ]
  },
  {
   "cell_type": "code",
   "execution_count": 29,
   "metadata": {},
   "outputs": [],
   "source": [
    "class FrenchDeck:\n",
    "    ranks = [str(n) for n in range(2, 11)] + list('JQKA')\n",
    "    suits = 'spades diamonds clubs hearts'.split()\n",
    "    def __init__(self):\n",
    "        self._cards = [Card(rank, suit) for suit in self.suits for rank in self.ranks]\n",
    "    def __len__(self):\n",
    "        return len(self._cards)\n",
    "    def __getitem__(self, position):\n",
    "        return self._cards[position]"
   ]
  },
  {
   "cell_type": "code",
   "execution_count": 30,
   "metadata": {},
   "outputs": [],
   "source": [
    "beer_card = Card('7', 'diamonds')"
   ]
  },
  {
   "cell_type": "code",
   "execution_count": 13,
   "metadata": {},
   "outputs": [
    {
     "data": {
      "text/plain": [
       "Card(rank='7', suite='diamonds')"
      ]
     },
     "execution_count": 13,
     "metadata": {},
     "output_type": "execute_result"
    }
   ],
   "source": [
    "beer_card"
   ]
  },
  {
   "cell_type": "code",
   "execution_count": 21,
   "metadata": {},
   "outputs": [
    {
     "data": {
      "text/plain": [
       "__main__.Card"
      ]
     },
     "execution_count": 21,
     "metadata": {},
     "output_type": "execute_result"
    }
   ],
   "source": [
    "type(beer_card)"
   ]
  },
  {
   "cell_type": "code",
   "execution_count": 32,
   "metadata": {},
   "outputs": [],
   "source": [
    "deck=FrenchDeck()"
   ]
  },
  {
   "cell_type": "code",
   "execution_count": 33,
   "metadata": {},
   "outputs": [
    {
     "data": {
      "text/plain": [
       "52"
      ]
     },
     "execution_count": 33,
     "metadata": {},
     "output_type": "execute_result"
    }
   ],
   "source": [
    "len(deck)"
   ]
  },
  {
   "cell_type": "code",
   "execution_count": 16,
   "metadata": {},
   "outputs": [
    {
     "data": {
      "text/plain": [
       "__main__.FrenchDeck"
      ]
     },
     "execution_count": 16,
     "metadata": {},
     "output_type": "execute_result"
    }
   ],
   "source": [
    "type(deck)"
   ]
  },
  {
   "cell_type": "code",
   "execution_count": 17,
   "metadata": {},
   "outputs": [
    {
     "data": {
      "text/plain": [
       "Card(rank='2', suite='spades')"
      ]
     },
     "execution_count": 17,
     "metadata": {},
     "output_type": "execute_result"
    }
   ],
   "source": [
    "# first card\n",
    "deck[0]"
   ]
  },
  {
   "cell_type": "code",
   "execution_count": 19,
   "metadata": {},
   "outputs": [
    {
     "data": {
      "text/plain": [
       "Card(rank='A', suite='hearts')"
      ]
     },
     "execution_count": 19,
     "metadata": {},
     "output_type": "execute_result"
    }
   ],
   "source": [
    "deck[-1]"
   ]
  },
  {
   "cell_type": "code",
   "execution_count": 22,
   "metadata": {},
   "outputs": [
    {
     "data": {
      "text/plain": [
       "Card(rank='5', suite='spades')"
      ]
     },
     "execution_count": 22,
     "metadata": {},
     "output_type": "execute_result"
    }
   ],
   "source": [
    "# randomly choosing deck\n",
    "from random import choice \n",
    "choice(deck)"
   ]
  },
  {
   "cell_type": "markdown",
   "metadata": {},
   "source": [
    "### Two advantages of using special method\n",
    "\n",
    "+ The users of your classes don’t have to memorize arbitrary method names for standard operations (“How to get the number of items? Is it .size(), .length(), or what?”).\n",
    "\n",
    "+ It’s easier to benefit from the rich Python standard library and avoid reinventing the wheel, like the random.choice function."
   ]
  },
  {
   "cell_type": "code",
   "execution_count": 23,
   "metadata": {},
   "outputs": [
    {
     "data": {
      "text/plain": [
       "[Card(rank='2', suite='spades'),\n",
       " Card(rank='3', suite='spades'),\n",
       " Card(rank='4', suite='spades')]"
      ]
     },
     "execution_count": 23,
     "metadata": {},
     "output_type": "execute_result"
    }
   ],
   "source": [
    "#top 3 cards\n",
    "deck[:3]"
   ]
  },
  {
   "cell_type": "code",
   "execution_count": 25,
   "metadata": {},
   "outputs": [
    {
     "data": {
      "text/plain": [
       "[Card(rank='A', suite='spades'),\n",
       " Card(rank='A', suite='diamonds'),\n",
       " Card(rank='A', suite='clubs'),\n",
       " Card(rank='A', suite='hearts')]"
      ]
     },
     "execution_count": 25,
     "metadata": {},
     "output_type": "execute_result"
    }
   ],
   "source": [
    "#picking first card at 12 and then picking cards at 13 interval \n",
    "deck[12::13]"
   ]
  },
  {
   "cell_type": "code",
   "execution_count": 28,
   "metadata": {},
   "outputs": [
    {
     "name": "stdout",
     "output_type": "stream",
     "text": [
      "Card(rank='2', suite='spades')\n",
      "Card(rank='3', suite='spades')\n",
      "Card(rank='4', suite='spades')\n",
      "Card(rank='5', suite='spades')\n",
      "Card(rank='6', suite='spades')\n",
      "Card(rank='7', suite='spades')\n",
      "Card(rank='8', suite='spades')\n",
      "Card(rank='9', suite='spades')\n",
      "Card(rank='10', suite='spades')\n",
      "Card(rank='J', suite='spades')\n",
      "Card(rank='Q', suite='spades')\n",
      "Card(rank='K', suite='spades')\n",
      "Card(rank='A', suite='spades')\n",
      "Card(rank='2', suite='diamonds')\n",
      "Card(rank='3', suite='diamonds')\n",
      "Card(rank='4', suite='diamonds')\n",
      "Card(rank='5', suite='diamonds')\n",
      "Card(rank='6', suite='diamonds')\n",
      "Card(rank='7', suite='diamonds')\n",
      "Card(rank='8', suite='diamonds')\n",
      "Card(rank='9', suite='diamonds')\n",
      "Card(rank='10', suite='diamonds')\n",
      "Card(rank='J', suite='diamonds')\n",
      "Card(rank='Q', suite='diamonds')\n",
      "Card(rank='K', suite='diamonds')\n",
      "Card(rank='A', suite='diamonds')\n",
      "Card(rank='2', suite='clubs')\n",
      "Card(rank='3', suite='clubs')\n",
      "Card(rank='4', suite='clubs')\n",
      "Card(rank='5', suite='clubs')\n",
      "Card(rank='6', suite='clubs')\n",
      "Card(rank='7', suite='clubs')\n",
      "Card(rank='8', suite='clubs')\n",
      "Card(rank='9', suite='clubs')\n",
      "Card(rank='10', suite='clubs')\n",
      "Card(rank='J', suite='clubs')\n",
      "Card(rank='Q', suite='clubs')\n",
      "Card(rank='K', suite='clubs')\n",
      "Card(rank='A', suite='clubs')\n",
      "Card(rank='2', suite='hearts')\n",
      "Card(rank='3', suite='hearts')\n",
      "Card(rank='4', suite='hearts')\n",
      "Card(rank='5', suite='hearts')\n",
      "Card(rank='6', suite='hearts')\n",
      "Card(rank='7', suite='hearts')\n",
      "Card(rank='8', suite='hearts')\n",
      "Card(rank='9', suite='hearts')\n",
      "Card(rank='10', suite='hearts')\n",
      "Card(rank='J', suite='hearts')\n",
      "Card(rank='Q', suite='hearts')\n",
      "Card(rank='K', suite='hearts')\n",
      "Card(rank='A', suite='hearts')\n"
     ]
    }
   ],
   "source": [
    "for x in deck:\n",
    "    print(x)"
   ]
  },
  {
   "cell_type": "code",
   "execution_count": 30,
   "metadata": {},
   "outputs": [
    {
     "data": {
      "text/plain": [
       "Card(rank='2', suite='diamonds')"
      ]
     },
     "execution_count": 30,
     "metadata": {},
     "output_type": "execute_result"
    }
   ],
   "source": [
    "deck[13]"
   ]
  },
  {
   "cell_type": "code",
   "execution_count": 32,
   "metadata": {},
   "outputs": [
    {
     "data": {
      "text/plain": [
       "[Card(rank='2', suite='spades'),\n",
       " Card(rank='2', suite='diamonds'),\n",
       " Card(rank='2', suite='clubs'),\n",
       " Card(rank='2', suite='hearts')]"
      ]
     },
     "execution_count": 32,
     "metadata": {},
     "output_type": "execute_result"
    }
   ],
   "source": [
    "deck[::13] #checking how [::] works "
   ]
  },
  {
   "cell_type": "code",
   "execution_count": 36,
   "metadata": {},
   "outputs": [
    {
     "name": "stdout",
     "output_type": "stream",
     "text": [
      "Card(rank='A', suite='hearts')\n",
      "Card(rank='K', suite='hearts')\n",
      "Card(rank='Q', suite='hearts')\n",
      "Card(rank='J', suite='hearts')\n",
      "Card(rank='10', suite='hearts')\n",
      "Card(rank='9', suite='hearts')\n",
      "Card(rank='8', suite='hearts')\n",
      "Card(rank='7', suite='hearts')\n",
      "Card(rank='6', suite='hearts')\n",
      "Card(rank='5', suite='hearts')\n",
      "Card(rank='4', suite='hearts')\n",
      "Card(rank='3', suite='hearts')\n",
      "Card(rank='2', suite='hearts')\n",
      "Card(rank='A', suite='clubs')\n",
      "Card(rank='K', suite='clubs')\n",
      "Card(rank='Q', suite='clubs')\n",
      "Card(rank='J', suite='clubs')\n",
      "Card(rank='10', suite='clubs')\n",
      "Card(rank='9', suite='clubs')\n",
      "Card(rank='8', suite='clubs')\n",
      "Card(rank='7', suite='clubs')\n",
      "Card(rank='6', suite='clubs')\n",
      "Card(rank='5', suite='clubs')\n",
      "Card(rank='4', suite='clubs')\n",
      "Card(rank='3', suite='clubs')\n",
      "Card(rank='2', suite='clubs')\n",
      "Card(rank='A', suite='diamonds')\n",
      "Card(rank='K', suite='diamonds')\n",
      "Card(rank='Q', suite='diamonds')\n",
      "Card(rank='J', suite='diamonds')\n",
      "Card(rank='10', suite='diamonds')\n",
      "Card(rank='9', suite='diamonds')\n",
      "Card(rank='8', suite='diamonds')\n",
      "Card(rank='7', suite='diamonds')\n",
      "Card(rank='6', suite='diamonds')\n",
      "Card(rank='5', suite='diamonds')\n",
      "Card(rank='4', suite='diamonds')\n",
      "Card(rank='3', suite='diamonds')\n",
      "Card(rank='2', suite='diamonds')\n",
      "Card(rank='A', suite='spades')\n",
      "Card(rank='K', suite='spades')\n",
      "Card(rank='Q', suite='spades')\n",
      "Card(rank='J', suite='spades')\n",
      "Card(rank='10', suite='spades')\n",
      "Card(rank='9', suite='spades')\n",
      "Card(rank='8', suite='spades')\n",
      "Card(rank='7', suite='spades')\n",
      "Card(rank='6', suite='spades')\n",
      "Card(rank='5', suite='spades')\n",
      "Card(rank='4', suite='spades')\n",
      "Card(rank='3', suite='spades')\n",
      "Card(rank='2', suite='spades')\n"
     ]
    }
   ],
   "source": [
    "# reversing the cards and then printing\n",
    "for x in reversed(deck): # doctest: +ELLIPSIS\n",
    "    print(x)"
   ]
  },
  {
   "cell_type": "markdown",
   "metadata": {},
   "source": [
    "# Ellipsis in doctests\n",
    "\n",
    "*1. When the output was too long, the elided part is marked by an ellipsis* *(...) like in the last line in the preceding code.*\n",
    "\n",
    "*2. In such cases, we used the #doctest: +ELLIPSIS directive to make the* *doctest pass.*\n",
    "\n",
    "Iteration is often implicit. If a collection has no __contains__ method, the in operatordoes a sequential scan.\n",
    "\n",
    "Case in point: in works with our FrenchDeck class because it is iterable."
   ]
  },
  {
   "cell_type": "code",
   "execution_count": 34,
   "metadata": {},
   "outputs": [
    {
     "data": {
      "text/plain": [
       "True"
      ]
     },
     "execution_count": 34,
     "metadata": {},
     "output_type": "execute_result"
    }
   ],
   "source": [
    "Card('Q','hearts') in deck"
   ]
  },
  {
   "cell_type": "code",
   "execution_count": 35,
   "metadata": {
    "scrolled": true
   },
   "outputs": [
    {
     "data": {
      "text/plain": [
       "False"
      ]
     },
     "execution_count": 35,
     "metadata": {},
     "output_type": "execute_result"
    }
   ],
   "source": [
    "Card('Q','beasts') in deck"
   ]
  },
  {
   "cell_type": "markdown",
   "metadata": {},
   "source": [
    "# Sorting\n",
    "\n",
    "+ By rank (Ace is the highest)\n",
    "+ By suite in order of spades (highest)\n",
    "+ then hearts, diamonds and clubs"
   ]
  },
  {
   "cell_type": "markdown",
   "metadata": {},
   "source": [
    "Here is a function that ranks cards by that rule, returning 0 for the 2 of clubs\n",
    "and 51 for the ace of spades:"
   ]
  },
  {
   "cell_type": "code",
   "execution_count": 37,
   "metadata": {},
   "outputs": [],
   "source": [
    "suite_values=dict(spades=3,hearts=2,diamonds=1,clubs=0)"
   ]
  },
  {
   "cell_type": "code",
   "execution_count": 39,
   "metadata": {},
   "outputs": [],
   "source": [
    "def spades_high(card):\n",
    "    rank_value=FrenchDeck.ranks.index(card.rank)\n",
    "    return rank_value * len(suite_values) + suite_values[card.suite]"
   ]
  },
  {
   "cell_type": "code",
   "execution_count": 40,
   "metadata": {},
   "outputs": [
    {
     "name": "stdout",
     "output_type": "stream",
     "text": [
      "Card(rank='2', suite='clubs')\n",
      "Card(rank='2', suite='diamonds')\n",
      "Card(rank='2', suite='hearts')\n",
      "Card(rank='2', suite='spades')\n",
      "Card(rank='3', suite='clubs')\n",
      "Card(rank='3', suite='diamonds')\n",
      "Card(rank='3', suite='hearts')\n",
      "Card(rank='3', suite='spades')\n",
      "Card(rank='4', suite='clubs')\n",
      "Card(rank='4', suite='diamonds')\n",
      "Card(rank='4', suite='hearts')\n",
      "Card(rank='4', suite='spades')\n",
      "Card(rank='5', suite='clubs')\n",
      "Card(rank='5', suite='diamonds')\n",
      "Card(rank='5', suite='hearts')\n",
      "Card(rank='5', suite='spades')\n",
      "Card(rank='6', suite='clubs')\n",
      "Card(rank='6', suite='diamonds')\n",
      "Card(rank='6', suite='hearts')\n",
      "Card(rank='6', suite='spades')\n",
      "Card(rank='7', suite='clubs')\n",
      "Card(rank='7', suite='diamonds')\n",
      "Card(rank='7', suite='hearts')\n",
      "Card(rank='7', suite='spades')\n",
      "Card(rank='8', suite='clubs')\n",
      "Card(rank='8', suite='diamonds')\n",
      "Card(rank='8', suite='hearts')\n",
      "Card(rank='8', suite='spades')\n",
      "Card(rank='9', suite='clubs')\n",
      "Card(rank='9', suite='diamonds')\n",
      "Card(rank='9', suite='hearts')\n",
      "Card(rank='9', suite='spades')\n",
      "Card(rank='10', suite='clubs')\n",
      "Card(rank='10', suite='diamonds')\n",
      "Card(rank='10', suite='hearts')\n",
      "Card(rank='10', suite='spades')\n",
      "Card(rank='J', suite='clubs')\n",
      "Card(rank='J', suite='diamonds')\n",
      "Card(rank='J', suite='hearts')\n",
      "Card(rank='J', suite='spades')\n",
      "Card(rank='Q', suite='clubs')\n",
      "Card(rank='Q', suite='diamonds')\n",
      "Card(rank='Q', suite='hearts')\n",
      "Card(rank='Q', suite='spades')\n",
      "Card(rank='K', suite='clubs')\n",
      "Card(rank='K', suite='diamonds')\n",
      "Card(rank='K', suite='hearts')\n",
      "Card(rank='K', suite='spades')\n",
      "Card(rank='A', suite='clubs')\n",
      "Card(rank='A', suite='diamonds')\n",
      "Card(rank='A', suite='hearts')\n",
      "Card(rank='A', suite='spades')\n"
     ]
    }
   ],
   "source": [
    "# deck is an object for FrenchDeck class\n",
    "#sorted(iterable, key=len) --> iterable = list\n",
    "for card in sorted(deck,key=spades_high):\n",
    "    print(card)"
   ]
  },
  {
   "cell_type": "markdown",
   "metadata": {},
   "source": [
    "# FrenchDeck () class\n",
    "+ Although FrenchDeck implicitly inherits from object,4 its functionality is not inherited,\n",
    "but comes from leveraging the data model and composition.\n",
    "\n",
    "+ By implementing the special methods __len__ and __getitem__, our FrenchDeck behaves like a standard Python sequence, allowing it to benefit from core language features (e.g., iteration and slicing)\n",
    "\n",
    "+ For __len__ and __getitem__ implementations, list object self._cards takes all the work away."
   ]
  },
  {
   "cell_type": "markdown",
   "metadata": {},
   "source": [
    "# Can we Shuffle?\n",
    "\n",
    "+ As implemented so far, a FrenchDeck cannot be shuffled, because it is immutable: the cards and their positions cannot be changed, except by violating encapsulation and handling the _cards attribute directly.\n",
    "\n",
    "+ In Chapter 11, that will be fixed byadding a one-line __setitem__ method."
   ]
  },
  {
   "cell_type": "markdown",
   "metadata": {},
   "source": [
    "# How Special Methods are used ?\n",
    "\n",
    "> *special methods - they are meant to be called by the*\n",
    "*Python interpreter, and not by us*\n",
    "\n",
    "*How Python interpreter calls special method in general?*\n",
    "\n",
    "+ We don’t write my_object.\\__len__\\().We write len(my_object) and, if my_object is an instance of a user-defined class, then Python calls the __len__ instance method we implemented.\n",
    "\n",
    "*How Python interpreter calls special method for list,str,bytearray?*\n",
    "\n",
    "+ In this case , the interpreter takes a shortcut : the CPython implementation of len() actually returns the ob_size field in the PyVarObject C struct that represents any variable-sized built-in object in memory. This is much faster than calling a method\n",
    "\n",
    "*Special method call in implicit*\n",
    "\n",
    "+ For example, the statement for i in x: actually causes the invocation of iter(x), which in turn may call x.\\__iter__\\() if that is available.\n",
    "\n",
    ">*Metaprogramming* --> Programs typically read input data, operate on that data and give some output data. Metaprograms read another program, manipulate that program and return a modified program. Sometimes a metaprogram can change its own behaviour by updating itself.\n",
    "\n",
    "*when you should or shouldn't call special method ?*\n",
    "\n",
    "- Normally, your code should not have many direct calls to special methods. Unless you are doing a lot of metaprogramming, you should be implementing special methods more often than invoking them explicitly.\n",
    "\n",
    "- The only special method that is frequently called by user code directly is __init__, to invoke the initializer of the superclass in your own __init__ implementation.\n",
    "\n",
    "*How to invoke special method?*\n",
    "\n",
    "- it is usually better to call the related built-in function (e.g., len, iter, str, etc).\n",
    "- These built-ins call the corresponding special method,but often provide other services and—for built-in types—are faster than method calls.  \n",
    "- Avoid creating arbitrary, custom attributes with the __foo__ syntax because such names may acquire special meanings in the future, even if they are unused today."
   ]
  },
  {
   "cell_type": "markdown",
   "metadata": {},
   "source": [
    "# Emulating Numeric Types\n",
    "\n",
    "- Several special methods allow user objects to respond to operators such as +.\n"
   ]
  },
  {
   "cell_type": "code",
   "execution_count": 11,
   "metadata": {},
   "outputs": [],
   "source": [
    "# Vector Example \n",
    "# hypot -->  sqrt(x1*x1 + x2*x2 +x3*x3 .... xn*xn).\n",
    "from math import hypot\n",
    "class Vector:\n",
    "    def __init__(self, x=0, y=0):\n",
    "        self.x = x\n",
    "        self.y = y\n",
    "    def __repr__(self):\n",
    "        return 'Vector(%r, %r)' % (self.x, self.y)\n",
    "    def __abs__(self):\n",
    "        return hypot(self.x, self.y)\n",
    "    def __bool__(self):\n",
    "        return bool(abs(self))\n",
    "    def __add__(self, other):\n",
    "        x = self.x + other.x\n",
    "        y = self.y + other.y\n",
    "        return Vector(x, y)\n",
    "    def __mul__(self, scalar):\n",
    "        return Vector(self.x * scalar, self.y * scalar)\n"
   ]
  },
  {
   "cell_type": "code",
   "execution_count": 12,
   "metadata": {},
   "outputs": [],
   "source": [
    "v1=Vector(2,4)"
   ]
  },
  {
   "cell_type": "code",
   "execution_count": 13,
   "metadata": {},
   "outputs": [],
   "source": [
    "v2=Vector(2,1)"
   ]
  },
  {
   "cell_type": "code",
   "execution_count": 14,
   "metadata": {},
   "outputs": [
    {
     "data": {
      "text/plain": [
       "Vector(4, 5)"
      ]
     },
     "execution_count": 14,
     "metadata": {},
     "output_type": "execute_result"
    }
   ],
   "source": [
    "v1+v2"
   ]
  },
  {
   "cell_type": "code",
   "execution_count": 15,
   "metadata": {},
   "outputs": [
    {
     "data": {
      "text/plain": [
       "5.0"
      ]
     },
     "execution_count": 15,
     "metadata": {},
     "output_type": "execute_result"
    }
   ],
   "source": [
    "# calculating magnitude of a vector \n",
    "\n",
    "v=Vector(3,4)\n",
    "abs(v)"
   ]
  },
  {
   "cell_type": "markdown",
   "metadata": {},
   "source": [
    "### scaler operation\n",
    "\n",
    "We can also implement the * operator to perform scalar multiplication (i.e., multiplyinga vector by a number to produce a new vector with the same direction and a multiplied magnitude)"
   ]
  },
  {
   "cell_type": "code",
   "execution_count": 16,
   "metadata": {},
   "outputs": [
    {
     "data": {
      "text/plain": [
       "Vector(9, 12)"
      ]
     },
     "execution_count": 16,
     "metadata": {},
     "output_type": "execute_result"
    }
   ],
   "source": [
    "v * 3"
   ]
  },
  {
   "cell_type": "code",
   "execution_count": 17,
   "metadata": {},
   "outputs": [
    {
     "data": {
      "text/plain": [
       "15.0"
      ]
     },
     "execution_count": 17,
     "metadata": {},
     "output_type": "execute_result"
    }
   ],
   "source": [
    "abs(v * 3)"
   ]
  },
  {
   "cell_type": "markdown",
   "metadata": {},
   "source": [
    "# String Reperesntation\n",
    "\n",
    "## 1. __repr__\n",
    "\n",
    "- special method is called by the repr built-in to get the string representation of the object for inspection.  \n",
    "- If we did not implement __repr__, vector instances would be shown in the console like <Vector object at 0x10e100070>.\n",
    "\n",
    "### When __repr__ is called ?\n",
    "\n",
    "- The interactive console and debugger call repr on the results of the expressions evaluated,as does the %r placeholder in classic formatting with the % operator, and the !r conversion field in the new Format String Syntax used in the str.format method.\n"
   ]
  },
  {
   "cell_type": "markdown",
   "metadata": {},
   "source": [
    "\n",
    "# Difference between __str__ and __repr__ in Python ?\n",
    "\n",
    "Container’s \\__str__\\ uses contained objects’ \\__repr__\\. So if I change \\__repr__\\ , \\__str__\\ can obatain that. But if I modify \\__str__\\ , \\__repr__\\ cant obtain it.\n",
    "\n",
    "(\\__str__\\) :\n",
    "\n",
    "- To get called by built-int str() method to return a string representation of a type. \n",
    "\n",
    "\n",
    "(\\__repr__\\) :\n",
    "\n",
    "- To get called by built-int repr() method to return a machine readable representation of a type.\n",
    "- goal is to be unambigous and machine readable \n",
    "\n",
    "When no custom \\__str__\\ is available , Python will call \\__repr__\\ as fallback\n"
   ]
  },
  {
   "cell_type": "code",
   "execution_count": 18,
   "metadata": {},
   "outputs": [
    {
     "name": "stdout",
     "output_type": "stream",
     "text": [
      "2022-08-21 15:48:41.817066\n",
      "datetime.datetime(2022, 8, 21, 15, 48, 41, 817066)\n"
     ]
    }
   ],
   "source": [
    "# * Example of repr and str *\n",
    "\n",
    "import datetime\n",
    "today = datetime.datetime.now()\n",
    "  \n",
    "# Prints readable format for date-time object\n",
    "print (str(today))\n",
    "  \n",
    "# prints the official format of date-time object\n",
    "print (repr(today)) "
   ]
  },
  {
   "cell_type": "code",
   "execution_count": 19,
   "metadata": {},
   "outputs": [
    {
     "name": "stdout",
     "output_type": "stream",
     "text": [
      "'Hello, Geeks.'\n",
      "Hello, Geeks.\n"
     ]
    }
   ],
   "source": [
    "s = 'Hello, Geeks.'\n",
    "print (repr(s))\n",
    "print(str(s))"
   ]
  },
  {
   "cell_type": "markdown",
   "metadata": {},
   "source": [
    "# Arithmatic Operators\n",
    "\n",
    "- (+) = (\\__add__\\)  \n",
    "- (*) = (\\__mul__\\)\n",
    "\n",
    "- The methods create and return a new instance of Vector and do not modify the either operand--self or other are merely read. This is the expected behaiviour of \n",
    "\n",
    ">An infix operator is a function of two arguments, with the name of the function written between the arguments. For example, the subtraction operator - is an infix operator. \n",
    "\n",
    "- This is the expected behavior of infix operators: to create new objects and not touch their operands.\n",
    "\n",
    "*Note* : From above example, We can multiply Vector with scaler , but can't multiply scaler with Vector \n"
   ]
  },
  {
   "cell_type": "markdown",
   "metadata": {},
   "source": [
    "# Boolean Value of a Custome Type \n",
    "\n",
    "Normally - bool(x) result: True or False\n",
    "\n",
    "+ instances of user defined classes are consideres Truth , unless either (\\__bool__\\) or (\\__len__\\) is implemented. \n",
    "\n",
    "+ bool(x) calls x.(\\__bool__()\\) and displays the result\n",
    "\n",
    "+ If can't implement (\\__bool__()\\), Python tries to invoke x.(\\__len__()\\)\n",
    "\n",
    "+ If (\\__bool__\\) and (\\__len__\\) results 0 , bool returns False\n",
    "+ (\\__bool__\\) returns False , if the magnitude of the vector is zero and returns True otherwise\n",
    "\n",
    "*Note*: For strings, the bool() method returns True until an unless it’s len() is equal to zero(0).\n"
   ]
  },
  {
   "cell_type": "code",
   "execution_count": 1,
   "metadata": {},
   "outputs": [],
   "source": [
    "class Vec:\n",
    "    def __init__(self, x=0, y=0):\n",
    "        self.x = x\n",
    "        self.y = y\n",
    "    def __bool__(self):\n",
    "        return bool(self.x or self.y)"
   ]
  },
  {
   "cell_type": "markdown",
   "metadata": {},
   "source": [
    "The explicit conversion to bool is\n",
    "needed because __bool__ must return a boolean and or returns\n",
    "either operand as is: x or y evaluates to x if that is truthy, otherwise\n",
    "the result is y, whatever that is."
   ]
  },
  {
   "cell_type": "code",
   "execution_count": 34,
   "metadata": {},
   "outputs": [],
   "source": [
    "v4=Vec(3,2)\n",
    "v5=Vec(3,2)"
   ]
  },
  {
   "cell_type": "code",
   "execution_count": 39,
   "metadata": {},
   "outputs": [
    {
     "data": {
      "text/plain": [
       "True"
      ]
     },
     "execution_count": 39,
     "metadata": {},
     "output_type": "execute_result"
    }
   ],
   "source": [
    "bool((3,2)==(3,2))"
   ]
  },
  {
   "cell_type": "code",
   "execution_count": 43,
   "metadata": {},
   "outputs": [
    {
     "data": {
      "text/plain": [
       "False"
      ]
     },
     "execution_count": 43,
     "metadata": {},
     "output_type": "execute_result"
    }
   ],
   "source": [
    "bool(v4==v5)"
   ]
  },
  {
   "cell_type": "markdown",
   "metadata": {},
   "source": [
    "# Overview of Special Method\n",
    "\n",
    "### Table 1-1. Special method names (operators excluded)\n"
   ]
  },
  {
   "cell_type": "markdown",
   "metadata": {},
   "source": [
    " 1. String/bytes representation --- > (\\__repr__\\,\\__str__\\, \\__format__\\,\\__bytes__\\)\n",
    "\n",
    " 2. Conversion to number ------------> (\\__abs__\\, \\__bool__\\, \\__complex__\\, \\__int__\\, \\__float__\\, \\__hash__\\,\\__index__\\)\n",
    " \n",
    " 3. Emulating collections -----------> (\\__len__\\, \\__getitem__\\, \\__setitem__\\, \\__delitem__\\, \\__contains__\\)\n",
    " 4. Iteration ------------------------>(\\__iter__\\, \\__reversed__\\, \\__next__\\\n",
    " 5. Emulating callables --------------> (\\__call__\\)\n",
    " 6. Context management  --------------> (\\__enter__\\, \\__exit__\\)\n",
    " 7. Instance creation and destruction ->(\\__new__\\, \\__init__\\, \\__del__\\)\n",
    " 8. Attribute management --------------->(\\__getattr__\\, \\__getattribute__\\, \\__setattr__\\, \\__delattr__\\, \\__dir__\\)\n",
    " 9. Attribute descriptors ---------------> (\\__get__\\,\\ __set__\\, \\__delete__\\)\n",
    " 10. Class services---------------------->  (\\__prepare__\\, \\__instancecheck__\\, \\__subclasscheck__\\)"
   ]
  },
  {
   "cell_type": "markdown",
   "metadata": {},
   "source": [
    "### Table 1-2. Special method names for operators\n",
    "\n",
    "*Category Method names and related operators*\n",
    "\n",
    "Unary numeric operators --------- >  __neg__ -, __pos__ +, __abs__ abs()\n",
    "\n",
    "Rich comparison operators--------- > __lt__ >, __le__ <=, __eq__ ==, __ne__ !=, __gt__ >, __ge__ >=\n",
    "\n",
    "Arithmetic operators--------------->  __add__ +, __sub__ -, __mul__ *, __truediv__ /, __floordiv__ //, __mod__\n",
    "%, __divmod__ divmod() , __pow__ ** or pow(), __round__ round()\n",
    "\n",
    "Reversed arithmetic operators-------> __radd__, __rsub__, __rmul__, __rtruediv__, __rfloordiv__, __rmod__,\n",
    "__rdivmod__, __rpow__\n",
    "\n",
    "Augmented assignment \n",
    "arithmetic operators----------------->__iadd__, __isub__, __imul__, __itruediv__, __ifloordiv__, __imod__,__ipow__\n",
    "\n",
    "Bitwise operators--------------------> __invert__ ~, __lshift__ <<, __rshift__ >>, __and__ &, __or__ |,__xor__ ^"
   ]
  },
  {
   "cell_type": "markdown",
   "metadata": {},
   "source": [
    "# Why len is not a method \n",
    "\n",
    "The result of len(x) and x.\\__len__\\() is the same: both return the number of elements in the object more genrally its length \n",
    "\n",
    "When we call len(x) built-in-function , it calls \\__len__\\() method internally to implement the correct behaviour \n",
    "\n",
    "- for built-in types, a call such as len(obj) does not invoke obj.\\__len__\\(). If the type of obj is a variable length built-in type coded in C, its memory representation has a struct named PyVarObject with an ob_size field. \n",
    "\n",
    "- In that case, len(obj) just returns the value of the ob_size field, avoiding an expensive dynamic attribute lookup and method call. Only if obj is a user defined type, then len() will call the __len__() special method, as a fallback."
   ]
  },
  {
   "cell_type": "markdown",
   "metadata": {},
   "source": [
    "We can think abs and len as unary operators. Their functional looks and feel , as opposed to method call syntax can lead us to expect Object Oriented language.\n",
    "\n",
    "### Operator \\ # \\\n",
    "\n",
    "- was equivalent to len\n",
    "- if written x#s , would result s.count(x) : means how many x are in s String\n"
   ]
  },
  {
   "cell_type": "code",
   "execution_count": 5,
   "metadata": {},
   "outputs": [
    {
     "data": {
      "text/plain": [
       "2"
      ]
     },
     "execution_count": 5,
     "metadata": {},
     "output_type": "execute_result"
    }
   ],
   "source": [
    "s=\"fxhx\"\n",
    "x='x'\n",
    "s.count(x)"
   ]
  },
  {
   "cell_type": "markdown",
   "metadata": {},
   "source": [
    "# Chapter summary\n",
    "\n",
    "From Book -\n",
    "\n",
    "- **Special Mehod** : By implementing special methods, our objects can behave like the built-in types, enabling the expressive coding style the community considers Pythonic.\n",
    "\n",
    "- **String Represntation** : \n",
    "        - A basic requirement is to provide usable string represntation\n",
    "        - usable string represntation - \n",
    "            i) one used for debugging and logging (\\__repr__\\) \n",
    "            ii) another for presentation to end users (\\__str__\\)\n",
    "            iii) Python offers rich selection of numeric types , from the built-ins to decimal.Decimal and fractions.Fraction. ( they all support infix arithmatic operator )  \n",
    "            \n",
    "        The reason for exisiting (\\__repr__\\) , (\\__str__\\) in data model is i) and ii)\n",
    "        \n",
    "        \n",
    "**Note** : **Operator overloading** is a compile-time polymorphism.It is an idea of giving special meaning to an existing operator in C++ without changing its original meaning.\n",
    "        \n",
    "  Example:\n",
    "\n",
    "   int a;\n",
    "  float b,sum;\n",
    "  sum=a+b;\n",
    "\n",
    "Here, variables “a” and “b” are of types “int” and “float”, which are built-in data types. Hence the addition operator ‘+’ can easily add the contents of “a” and “b”. This is because the addition operator “+” is predefined to add variables of built-in data type only.\n"
   ]
  },
  {
   "cell_type": "markdown",
   "metadata": {},
   "source": [
    "# Some reading links :\n",
    "\n",
    "1. [“Data Model” chapter of The Python Language Reference](https://docs.python.org/3/reference/datamodel.html)\n",
    "2. [Python in a Nutshell, 2nd Edition (O’Reilly) by Alex Martelli has](bit.ly/Python-IAN)\n",
    "3. Python Essential Reference, 4th Edition (Addison-Wesley Professional),\n",
    "4. Python Cookbook, 3rd Edition (O’Reilly), coauthored with Brian K. Jones.\n",
    "5. The Art of the Metaobject Protocol (AMOP, MIT Press) by Gregor Kiczales,\n"
   ]
  },
  {
   "cell_type": "markdown",
   "metadata": {},
   "source": [
    "# SoapBox\n",
    "\n",
    "### Data Model or Object Model \n",
    "\n",
    " Some might call Python data model or  Python object model \n",
    " \n",
    "### Magic Methods \n",
    "\n",
    "the special methods are called magic methods by some \n",
    "\n",
    "### Metaobjects ( need more research )\n",
    "\n",
    "Book : The Art of Metaobject Protocol (AMOP)\n",
    "\n",
    "- refers to the object that are the building blocks of a language itself\n"
   ]
  },
  {
   "cell_type": "markdown",
   "metadata": {},
   "source": [
    "# Chapter 2 \n",
    "## An Array of Sequences\n",
    "\n",
    "### ABC\n",
    "\n",
    "- Before creating Python , Guido was a contributor to the ABC language \n",
    "- ABC introduced many ideas we now consider 'Pythonic'\n",
    "   - generic operations on sequences \n",
    "   - built in tuple and mapping types \n",
    "   - structure by indentation \n",
    "   - strong typing without variable declaration\n",
    "        \n",
    "**Note :** Python was inherited from ABC\n",
    "\n",
    "Some Rich set of common operations are including -\n",
    "    - iteration, \n",
    "    - slicing, \n",
    "    - sorting and \n",
    "    - concatenation\n",
    "\n",
    "**Strings, lists, byte , sequences, arrays, XML elements, and database** results share these rich set of common operations.\n",
    "\n",
    "The reason we need to understand the variety of sequences available in Python\n",
    " - is to save us from reinventing the wheel \n",
    " - their common interface could inspire us to create APIs that properly support and leverage existing and future sequence types"
   ]
  },
  {
   "attachments": {
    "anod.png": {
     "image/png": "[encoded data removed]"
    },
    "image.png": {
     "image/png": "[encoded data removed]"
    }
   },
   "cell_type": "markdown",
   "metadata": {},
   "source": [
    "### Overview of Built-In Sequences\n",
    "\n",
    "standard library offers a rich selection of sequence types implemented in C\n",
    "\n",
    "These sequence types are -\n",
    "\n",
    "- Container sequences\n",
    "    - Definition : Container sequences hold references to the objects they contain, which may be of any type\n",
    "    - list, tuple, and collections.deque can hold items of diffrent types\n",
    "    - holds reference to the object they contain and the object could be of any type \n",
    "    \n",
    "        **List :**\n",
    "        a=[1,2,3,4]\n",
    "\n",
    "        **Tuple :**\n",
    "        a= (year,month,date)\n",
    "        \n",
    "        **collections.deque :**\n",
    "        A deque is a double-ended queue. It can be used to add or remove elements from both ends.\n",
    "       \n",
    "       ![https://media.geeksforgeeks.org/wp-content/uploads/anod.png](attachment:anod.png)\n",
    "            Fig : Deque algorithm\n",
    "\n",
    "- Flat sequences\n",
    "    - str, bytes, bytearray, memoryview, and array.array hold items of different types\n",
    "    - physically store the value of each item within its own memory space, and not as distinct objects\n",
    "    - That's why they are more compact\n",
    "    - but they are limited to holding primitive values like characters, bytes, and numbers\n",
    "    \n",
    "         **Bytes :**\n",
    "           bytes() function:\n",
    "            Return a new \"bytes\" object, which is an immutable sequence of small integers in the range 0 <= x < 256, print as ASCII characters when displayed. bytes is an immutable version of bytearray – it has the same non-mutating methods and the same indexing and slicing behavior.\n",
    "             \n",
    "       ![https://media.geeksforgeeks.org/wp-content/uploads/string-vs-byte-in-python.png](attachment:image.png)\n",
    "       \n",
    "       **Byte Array :**\n",
    "         bytearray() method :  returns a bytearray object which is an array of the given bytes.\n",
    "\n",
    "         \n",
    "         \n",
    "     \n",
    "       \n",
    "    \n",
    " "
   ]
  },
  {
   "cell_type": "markdown",
   "metadata": {},
   "source": []
  },
  {
   "cell_type": "code",
   "execution_count": 2,
   "metadata": {},
   "outputs": [
    {
     "name": "stdout",
     "output_type": "stream",
     "text": [
      "deque(['name', 'age', 'DOB'])\n"
     ]
    }
   ],
   "source": [
    "from collections import deque\n",
    "     \n",
    "# Declaring deque\n",
    "queue = deque(['name','age','DOB']) \n",
    "     \n",
    "print(queue)"
   ]
  },
  {
   "cell_type": "code",
   "execution_count": 3,
   "metadata": {},
   "outputs": [
    {
     "name": "stdout",
     "output_type": "stream",
     "text": [
      "Encoding successful\n"
     ]
    }
   ],
   "source": [
    "# Python code to demonstrate String encoding\n",
    "\n",
    "# initialising a String\n",
    "#byte exmaple\n",
    "a = 'GeeksforGeeks'\n",
    "\n",
    "# initialising a byte object\n",
    "c = b'GeeksforGeeks'\n",
    "\n",
    "# using encode() to encode the String\n",
    "# encoded version of a is stored in d\n",
    "# using ASCII mapping\n",
    "d = a.encode('ASCII')\n",
    "\n",
    "# checking if a is converted to bytes or not\n",
    "if (d==c):\n",
    "\tprint (\"Encoding successful\")\n",
    "else : print (\"Encoding Unsuccessful\")\n"
   ]
  },
  {
   "cell_type": "code",
   "execution_count": 4,
   "metadata": {},
   "outputs": [
    {
     "name": "stdout",
     "output_type": "stream",
     "text": [
      "bytearray(b'\\x02\\x03\\x05\\x07')\n"
     ]
    }
   ],
   "source": [
    "# bytearray\n",
    "prime_numbers = [2, 3, 5, 7]\n",
    "# convert list to bytearray\n",
    "byte_array = bytearray(prime_numbers)\n",
    "print(byte_array)"
   ]
  },
  {
   "cell_type": "code",
   "execution_count": 5,
   "metadata": {},
   "outputs": [
    {
     "name": "stdout",
     "output_type": "stream",
     "text": [
      "bytearray(b'Python is interesting.')\n"
     ]
    }
   ],
   "source": [
    "#bytearray\n",
    "\n",
    "string = \"Python is interesting.\"\n",
    "\n",
    "# string with encoding 'utf-8'\n",
    "arr = bytearray(string, 'utf-8')\n",
    "print(arr)"
   ]
  },
  {
   "attachments": {
    "image.png": {
     "image/png": "[encoded data removed]"
    }
   },
   "cell_type": "markdown",
   "metadata": {},
   "source": [
    "### Overview of Built-In Sequences\n",
    "\n",
    "Another way of grouping sequence type is by mutability \n",
    "\n",
    "**Mutable Sequence** : \n",
    "list, bytearray, array.array, collections.deque, and memoryview\n",
    "\n",
    "**Immutable sequences**:\n",
    "tuple, str, and bytes\n",
    "\n",
    "![image.png](attachment:image.png)\n",
    "\n",
    "Fig : UML class diagram for some classes from collections.abc (superclasses are\n",
    "on the left; inheritance arrows point from subclasses to superclasses; names in italic are\n",
    "abstract classes and abstract methods\n",
    "\n",
    "list comprehensions - a powerful way of building lists that is somewhat underused because the syntax may be\n",
    "unfamiliar.\n",
    "\n"
   ]
  },
  {
   "cell_type": "markdown",
   "metadata": {},
   "source": [
    "### List Comprehensions and Generator Expressions\n",
    "\n",
    "### List Comprehensions and Readability\n",
    "\n"
   ]
  },
  {
   "cell_type": "markdown",
   "metadata": {},
   "source": [
    "Example 2-1. Build a list of Unicode codepoints from a string"
   ]
  },
  {
   "cell_type": "code",
   "execution_count": 6,
   "metadata": {},
   "outputs": [
    {
     "name": "stdout",
     "output_type": "stream",
     "text": [
      "[36, 162, 163, 165, 8364, 164]\n"
     ]
    }
   ],
   "source": [
    "symbols = '$¢£¥€¤'\n",
    "codes = []\n",
    "for symbol in symbols:\n",
    "    codes.append(ord(symbol))\n",
    "print(codes)"
   ]
  },
  {
   "cell_type": "markdown",
   "metadata": {},
   "source": [
    "Example 2-2. Build a list of Unicode codepoints from a string, take two"
   ]
  },
  {
   "cell_type": "code",
   "execution_count": 7,
   "metadata": {},
   "outputs": [
    {
     "name": "stdout",
     "output_type": "stream",
     "text": [
      "[36, 162, 163, 165, 8364, 164]\n"
     ]
    }
   ],
   "source": [
    "symbols = '$¢£¥€¤'\n",
    "codes=[ord(symbol) for symbol in symbols]\n",
    "print(codes)"
   ]
  },
  {
   "cell_type": "markdown",
   "metadata": {},
   "source": [
    "**for loop is used**\n",
    "- scanning a sequence to count or pick items\n",
    "- computing aggregates (sums, averages)\n",
    "- any number of other processing tasks\n",
    "\n",
    "**list comp**\n",
    "- to build a new list \n",
    "\n",
    "### Listcomps No Longer Leak Their Variables\n",
    "\n",
    "**Syntax :**\n",
    "- line breaks are ignored inside pairs of [], {}, or ()"
   ]
  },
  {
   "cell_type": "code",
   "execution_count": 15,
   "metadata": {},
   "outputs": [],
   "source": [
    "# Python 2.7.6\n",
    "x = 'my precious'\n",
    "dummy = [x for x in 'ABC']\n"
   ]
  },
  {
   "cell_type": "code",
   "execution_count": 16,
   "metadata": {},
   "outputs": [
    {
     "data": {
      "text/plain": [
       "'my precious'"
      ]
     },
     "execution_count": 16,
     "metadata": {},
     "output_type": "execute_result"
    }
   ],
   "source": [
    "# Python 2.7.6 , supposed to print 'C'\n",
    "x  "
   ]
  },
  {
   "cell_type": "code",
   "execution_count": 17,
   "metadata": {},
   "outputs": [],
   "source": [
    "# Python 3\n",
    "x = 'ABC'\n",
    "dummy = [ord(x) for x in x]\n"
   ]
  },
  {
   "cell_type": "code",
   "execution_count": 18,
   "metadata": {},
   "outputs": [
    {
     "data": {
      "text/plain": [
       "'ABC'"
      ]
     },
     "execution_count": 18,
     "metadata": {},
     "output_type": "execute_result"
    }
   ],
   "source": [
    "x"
   ]
  },
  {
   "cell_type": "code",
   "execution_count": 19,
   "metadata": {},
   "outputs": [
    {
     "data": {
      "text/plain": [
       "[65, 66, 67]"
      ]
     },
     "execution_count": 19,
     "metadata": {},
     "output_type": "execute_result"
    }
   ],
   "source": [
    "dummy"
   ]
  },
  {
   "cell_type": "markdown",
   "metadata": {},
   "source": [
    "### Conclusion of above comparison of the code\n",
    "- The value of x is preserved.\n",
    "- The list comprehension produces the expected list\n",
    "\n",
    "### Listcomps Versus map and filter\n",
    "\n",
    "Listcomps do everything the map and filter functions do, without the contortions of the functionally challenged Python lambda\n",
    "\n",
    "Example 2-3. The same list built by a listcomp and a map/filter composition"
   ]
  },
  {
   "cell_type": "code",
   "execution_count": 20,
   "metadata": {},
   "outputs": [
    {
     "data": {
      "text/plain": [
       "[162, 163, 165, 8364, 164]"
      ]
     },
     "execution_count": 20,
     "metadata": {},
     "output_type": "execute_result"
    }
   ],
   "source": [
    "symbols = '$¢£¥€¤'\n",
    "beyond_ascii = [ord(s) for s in symbols if ord(s) > 127]\n",
    "beyond_ascii"
   ]
  },
  {
   "cell_type": "markdown",
   "metadata": {},
   "source": [
    "\n",
    "**lambda function**\n",
    "\n",
    "- A lambda function is a small anonymous function.\n",
    "- A lambda function can take any number of arguments, but can only have one expression.\n",
    "\n",
    "**Syntax**\n",
    "\n",
    "lambda arguments : expression\n"
   ]
  },
  {
   "cell_type": "code",
   "execution_count": 21,
   "metadata": {},
   "outputs": [
    {
     "name": "stdout",
     "output_type": "stream",
     "text": [
      "15\n"
     ]
    }
   ],
   "source": [
    "x = lambda a : a + 10\n",
    "print(x(5))"
   ]
  },
  {
   "cell_type": "code",
   "execution_count": 22,
   "metadata": {},
   "outputs": [
    {
     "name": "stdout",
     "output_type": "stream",
     "text": [
      "prithi\n"
     ]
    }
   ],
   "source": [
    "s= lambda s : s + 'thi'\n",
    "print(s('pri'))"
   ]
  },
  {
   "cell_type": "markdown",
   "metadata": {},
   "source": [
    "**lambda**\n",
    "\n",
    "The power of lambda is better shown when you use them as an anonymous function inside another function.\n",
    "\n",
    "Say you have a function definition that takes one argument, and that argument will be multiplied with an unknown number:"
   ]
  },
  {
   "cell_type": "code",
   "execution_count": 24,
   "metadata": {},
   "outputs": [
    {
     "name": "stdout",
     "output_type": "stream",
     "text": [
      "22\n"
     ]
    }
   ],
   "source": [
    "def myfunc(n):\n",
    "  return lambda a : a * n\n",
    "\n",
    "mydoubler = myfunc(2)\n",
    "\n",
    "print(mydoubler(11))\n"
   ]
  },
  {
   "cell_type": "markdown",
   "metadata": {},
   "source": [
    "**map**\n",
    "- The map() function executes a specified function for each item in an iterable. \n",
    "- The item is sent to the function as a parameter.\n",
    "\n",
    "**syntax**\n",
    "\n",
    "map(function, iterables)\n"
   ]
  },
  {
   "cell_type": "code",
   "execution_count": 26,
   "metadata": {},
   "outputs": [
    {
     "name": "stdout",
     "output_type": "stream",
     "text": [
      "<map object at 0x000001D9F65B2408>\n",
      "[5, 6, 6]\n"
     ]
    }
   ],
   "source": [
    "def myfunc(a):\n",
    "  return len(a)\n",
    "\n",
    "x = map(myfunc, ('apple', 'banana', 'cherry'))\n",
    "\n",
    "print(x)\n",
    "\n",
    "#convert the map into a list, for readability:\n",
    "print(list(x))\n"
   ]
  },
  {
   "cell_type": "markdown",
   "metadata": {},
   "source": [
    "**filter**\n",
    "\n",
    "- The filter() method filters the given sequence with the help of a function that tests each element in the sequence to be true or not.\n",
    "\n",
    "**filter syntax**\n",
    "\n",
    "filter(function, sequence)\n",
    "\n",
    "Example 2-3. The same list built by a listcomp and a map/filter composition"
   ]
  },
  {
   "cell_type": "code",
   "execution_count": 28,
   "metadata": {},
   "outputs": [
    {
     "data": {
      "text/plain": [
       "[162, 163, 165, 8364, 164]"
      ]
     },
     "execution_count": 28,
     "metadata": {},
     "output_type": "execute_result"
    }
   ],
   "source": [
    "symbols = '$¢£¥€¤'\n",
    "beyond_ascii= list(filter(lambda a: a > 127,map(ord,symbols)))\n",
    "beyond_ascii"
   ]
  },
  {
   "cell_type": "code",
   "execution_count": 30,
   "metadata": {},
   "outputs": [
    {
     "name": "stdout",
     "output_type": "stream",
     "text": [
      "listcomp        : 0.021 0.018 0.013 0.011 0.010\n",
      "listcomp + func : 0.019 0.016 0.015 0.013 0.016\n",
      "filter + lambda : 0.016 0.013 0.012 0.012 0.011\n",
      "filter + func   : 0.011 0.012 0.011 0.012 0.012\n"
     ]
    }
   ],
   "source": [
    "# see which one is faster \n",
    "import timeit\n",
    "\n",
    "TIMES = 10000\n",
    "\n",
    "SETUP = \"\"\"\n",
    "symbols = '$¢£¥€¤'\n",
    "def non_ascii(c):\n",
    "    return c > 127\n",
    "\"\"\"\n",
    "\n",
    "def clock(label, cmd):\n",
    "    res = timeit.repeat(cmd, setup=SETUP, number=TIMES)\n",
    "    print(label, *('{:.3f}'.format(x) for x in res))\n",
    "\n",
    "clock('listcomp        :', '[ord(s) for s in symbols if ord(s) > 127]')\n",
    "clock('listcomp + func :', '[ord(s) for s in symbols if non_ascii(ord(s))]')\n",
    "clock('filter + lambda :', 'list(filter(lambda c: c > 127, map(ord, symbols)))')\n",
    "clock('filter + func   :', 'list(filter(non_ascii, map(ord, symbols)))')"
   ]
  },
  {
   "attachments": {
    "image.png": {
     "image/png": "[encoded data removed]"
    }
   },
   "cell_type": "markdown",
   "metadata": {},
   "source": [
    "# Cartesian Products\n",
    "\n",
    "- Listcomps can generate lists from the Cartesian product of two or more iterables\n",
    "\n",
    "![image.png](attachment:image.png)\n",
    "\n",
    "Example 2-4. Cartesian product using a list comprehension\n"
   ]
  },
  {
   "cell_type": "code",
   "execution_count": 35,
   "metadata": {},
   "outputs": [
    {
     "data": {
      "text/plain": [
       "[('black', 'S'),\n",
       " ('black', 'M'),\n",
       " ('black', 'L'),\n",
       " ('white', 'S'),\n",
       " ('white', 'M'),\n",
       " ('white', 'L')]"
      ]
     },
     "execution_count": 35,
     "metadata": {},
     "output_type": "execute_result"
    }
   ],
   "source": [
    "colors = ['black', 'white']\n",
    "sizes = ['S', 'M', 'L']\n",
    "tshirts = [(color, size) for color in colors for size in sizes]\n",
    "tshirts"
   ]
  },
  {
   "cell_type": "code",
   "execution_count": 36,
   "metadata": {},
   "outputs": [
    {
     "name": "stdout",
     "output_type": "stream",
     "text": [
      "('black', 'S')\n",
      "('black', 'M')\n",
      "('black', 'L')\n",
      "('white', 'S')\n",
      "('white', 'M')\n",
      "('white', 'L')\n"
     ]
    }
   ],
   "source": [
    "for color in colors:\n",
    "    for size in sizes:\n",
    "        print((color, size))"
   ]
  },
  {
   "cell_type": "code",
   "execution_count": 37,
   "metadata": {},
   "outputs": [],
   "source": [
    "tshirts = [(color, size) for size in sizes\n",
    "  for color in colors]"
   ]
  },
  {
   "cell_type": "code",
   "execution_count": 38,
   "metadata": {},
   "outputs": [
    {
     "data": {
      "text/plain": [
       "[('black', 'S'),\n",
       " ('white', 'S'),\n",
       " ('black', 'M'),\n",
       " ('white', 'M'),\n",
       " ('black', 'L'),\n",
       " ('white', 'L')]"
      ]
     },
     "execution_count": 38,
     "metadata": {},
     "output_type": "execute_result"
    }
   ],
   "source": [
    "tshirts\n"
   ]
  },
  {
   "cell_type": "markdown",
   "metadata": {},
   "source": [
    "### generator expression\n",
    "\n",
    "- To initialize **tuples, arrays, and other types of sequences**, you could also start from a listcomp, but a genexp saves memory because it yields items one by one using the iterator protocol instead of building a whole list just to feed another constructor.\n",
    "- An iterator protocol is nothing but a specific class in Python which further has the __next()__ method.\n",
    "- Initializing a tuple and an array from a generator expression"
   ]
  },
  {
   "cell_type": "code",
   "execution_count": 46,
   "metadata": {},
   "outputs": [
    {
     "data": {
      "text/plain": [
       "(36, 162, 163, 165, 8364, 164)"
      ]
     },
     "execution_count": 46,
     "metadata": {},
     "output_type": "execute_result"
    }
   ],
   "source": [
    "symbols='$¢£¥€¤'\n",
    "tuple(ord(symbol) for symbol in symbols)"
   ]
  },
  {
   "cell_type": "code",
   "execution_count": 47,
   "metadata": {},
   "outputs": [
    {
     "data": {
      "text/plain": [
       "array('I', [36, 162, 163, 165, 8364, 164])"
      ]
     },
     "execution_count": 47,
     "metadata": {},
     "output_type": "execute_result"
    }
   ],
   "source": [
    "import array\n",
    "array.array('I',(ord(symbol) for symbol in symbols))"
   ]
  },
  {
   "cell_type": "markdown",
   "metadata": {},
   "source": [
    "Example 2-6 uses a genexp with a Cartesian product to print out a roster of T-shirts of\n",
    "two colors in three sizes.\n",
    "\n",
    "If the two lists used in the Cartesian product had 1,000 items each, using\n",
    "a generator expression would save the expense of building a list with a million items\n",
    "just to feed the for loop.\n",
    "\n",
    "Example 2-6. Cartesian product in a generator expression\n"
   ]
  },
  {
   "cell_type": "code",
   "execution_count": 48,
   "metadata": {},
   "outputs": [
    {
     "name": "stdout",
     "output_type": "stream",
     "text": [
      "black S\n",
      "black M\n",
      "black L\n",
      "white S\n",
      "white M\n",
      "white L\n"
     ]
    }
   ],
   "source": [
    "colors = ['black', 'white']\n",
    "sizes = ['S', 'M', 'L']\n",
    "# print \"this is a tuple: %s\" % (thetuple,)\n",
    "for tshirt in ('%s %s' % (c, s) for c in colors for s in sizes):\n",
    "    print(tshirt)"
   ]
  },
  {
   "cell_type": "code",
   "execution_count": 55,
   "metadata": {},
   "outputs": [
    {
     "data": {
      "text/plain": [
       "<generator object <genexpr> at 0x000001D9F6638848>"
      ]
     },
     "execution_count": 55,
     "metadata": {},
     "output_type": "execute_result"
    }
   ],
   "source": [
    "( '%s %s' % (c, s) for c in colors for s in sizes)\n",
    "\n",
    " "
   ]
  },
  {
   "cell_type": "markdown",
   "metadata": {},
   "source": [
    "The generator expression yields items one by one; a list with all six T-shirt\n",
    "variations is never produced in this example.\n",
    "\n",
    "### Tuples Are Not Just Immutable Lists\n",
    "\n",
    "- Some introductory texts about Python present tuples as “immutable lists,” but that is short selling them.\n",
    "- double duty of tupples are \n",
    "    - they can be used as immutable lists\n",
    "    - they can be used as records with no field names.\n",
    "    \n",
    "### Tuples as Records \n",
    "\n"
   ]
  },
  {
   "cell_type": "code",
   "execution_count": 56,
   "metadata": {},
   "outputs": [
    {
     "name": "stdout",
     "output_type": "stream",
     "text": [
      "BRA/CE342567\n",
      "ESP/XDA205856\n",
      "USA/31195855\n"
     ]
    }
   ],
   "source": [
    "lax_coordinates = (33.9425, -118.408056)\n",
    "city, year, pop, chg, area = ('Tokyo', 2003, 32450, 0.66, 8014)\n",
    "traveler_ids = [('USA', '31195855'), ('BRA', 'CE342567'),\n",
    "                ('ESP', 'XDA205856')]\n",
    "# unpacking tuple\n",
    "for passport in sorted(traveler_ids):\n",
    "    print('%s/%s' % passport)\n",
    "    "
   ]
  },
  {
   "cell_type": "code",
   "execution_count": 57,
   "metadata": {},
   "outputs": [
    {
     "name": "stdout",
     "output_type": "stream",
     "text": [
      "USA\n",
      "BRA\n",
      "ESP\n"
     ]
    }
   ],
   "source": [
    "# unpacking tuple \n",
    "for country, _ in traveler_ids:\n",
    "    print(country)"
   ]
  },
  {
   "cell_type": "markdown",
   "metadata": {},
   "source": [
    "The for loop knows how to retrieve the items of a tuple separately—this is called\n",
    "“unpacking.” Here we are not interested in the second item, so it’s assigned to\n",
    "_, a dummy variable.\n",
    "\n",
    "### Tuple Unpacking\n",
    "\n",
    "- works with any iterable object \n",
    "- \n"
   ]
  },
  {
   "cell_type": "code",
   "execution_count": 58,
   "metadata": {},
   "outputs": [
    {
     "data": {
      "text/plain": [
       "33.9425"
      ]
     },
     "execution_count": 58,
     "metadata": {},
     "output_type": "execute_result"
    }
   ],
   "source": [
    "lax_coordinates = (33.9425, -118.408056)\n",
    "latitude, longitude = lax_coordinates # tuple unpacking\n",
    "latitude\n"
   ]
  },
  {
   "cell_type": "code",
   "execution_count": 59,
   "metadata": {},
   "outputs": [
    {
     "data": {
      "text/plain": [
       "-118.408056"
      ]
     },
     "execution_count": 59,
     "metadata": {},
     "output_type": "execute_result"
    }
   ],
   "source": [
    "longitude\n",
    " "
   ]
  },
  {
   "cell_type": "code",
   "execution_count": 61,
   "metadata": {},
   "outputs": [
    {
     "data": {
      "text/plain": [
       "(2, 4)"
      ]
     },
     "execution_count": 61,
     "metadata": {},
     "output_type": "execute_result"
    }
   ],
   "source": [
    " divmod(20, 8)"
   ]
  },
  {
   "cell_type": "code",
   "execution_count": 62,
   "metadata": {},
   "outputs": [
    {
     "data": {
      "text/plain": [
       "(2, 4)"
      ]
     },
     "execution_count": 62,
     "metadata": {},
     "output_type": "execute_result"
    }
   ],
   "source": [
    "t = (20, 8)\n",
    "divmod(*t)"
   ]
  },
  {
   "cell_type": "code",
   "execution_count": 64,
   "metadata": {},
   "outputs": [],
   "source": [
    "quotient, remainder = divmod(*t)"
   ]
  },
  {
   "cell_type": "code",
   "execution_count": 65,
   "metadata": {},
   "outputs": [
    {
     "data": {
      "text/plain": [
       "(2, 4)"
      ]
     },
     "execution_count": 65,
     "metadata": {},
     "output_type": "execute_result"
    }
   ],
   "source": [
    "quotient, remainder"
   ]
  },
  {
   "cell_type": "markdown",
   "metadata": {},
   "source": [
    "**\"_\"**\n",
    "\n",
    "- Sometimes when we only care about certain parts of a tuple when unpacking, a dummy variable like _ is used as placeholder\n",
    "- If you write internationalized software, _ is not a good dummy variable because it is traditionally used as an alias to the get text.gettext function, as recommended in the gettext module documentation.\n",
    "- Another way of focusing on just some of the items when unpacking a tuple is to use the\n",
    "*, as we’ll see right away.\n",
    "\n",
    "### Using * to grab excess items\n",
    "\n",
    "Defining function parameters with *args to grab arbitrary excess arguments is a classic Python feature.\n",
    "\n"
   ]
  },
  {
   "cell_type": "code",
   "execution_count": 66,
   "metadata": {},
   "outputs": [],
   "source": [
    "a, b, *rest = range(5)"
   ]
  },
  {
   "cell_type": "code",
   "execution_count": 67,
   "metadata": {},
   "outputs": [
    {
     "data": {
      "text/plain": [
       "(0, 1, [2, 3, 4])"
      ]
     },
     "execution_count": 67,
     "metadata": {},
     "output_type": "execute_result"
    }
   ],
   "source": [
    "a, b, rest"
   ]
  },
  {
   "cell_type": "code",
   "execution_count": 70,
   "metadata": {},
   "outputs": [],
   "source": [
    "z,*c=  range(5)"
   ]
  },
  {
   "cell_type": "code",
   "execution_count": 73,
   "metadata": {},
   "outputs": [
    {
     "data": {
      "text/plain": [
       "(0, [1, 2, 3, 4])"
      ]
     },
     "execution_count": 73,
     "metadata": {},
     "output_type": "execute_result"
    }
   ],
   "source": [
    "z,c"
   ]
  },
  {
   "cell_type": "code",
   "execution_count": 74,
   "metadata": {},
   "outputs": [],
   "source": [
    "a, b, *rest = range(3)"
   ]
  },
  {
   "cell_type": "code",
   "execution_count": 75,
   "metadata": {},
   "outputs": [
    {
     "data": {
      "text/plain": [
       "(0, 1, [2])"
      ]
     },
     "execution_count": 75,
     "metadata": {},
     "output_type": "execute_result"
    }
   ],
   "source": [
    "a,b,rest"
   ]
  },
  {
   "cell_type": "code",
   "execution_count": 76,
   "metadata": {},
   "outputs": [],
   "source": [
    "a, b, *rest = range(2)"
   ]
  },
  {
   "cell_type": "code",
   "execution_count": 77,
   "metadata": {},
   "outputs": [
    {
     "data": {
      "text/plain": [
       "(0, 1, [])"
      ]
     },
     "execution_count": 77,
     "metadata": {},
     "output_type": "execute_result"
    }
   ],
   "source": [
    "a,b,rest"
   ]
  },
  {
   "cell_type": "markdown",
   "metadata": {},
   "source": [
    "In the context of parallel assignment, the * prefix can be applied to exactly one variable,\n",
    "but it can appear in any position:"
   ]
  },
  {
   "cell_type": "code",
   "execution_count": 78,
   "metadata": {},
   "outputs": [],
   "source": [
    "a, *body, c, d = range(5)"
   ]
  },
  {
   "cell_type": "code",
   "execution_count": 79,
   "metadata": {},
   "outputs": [
    {
     "data": {
      "text/plain": [
       "(0, [1, 2], 3, 4)"
      ]
     },
     "execution_count": 79,
     "metadata": {},
     "output_type": "execute_result"
    }
   ],
   "source": [
    "a,body,c,d"
   ]
  },
  {
   "cell_type": "code",
   "execution_count": 80,
   "metadata": {},
   "outputs": [],
   "source": [
    "*head, b, c, d = range(5)"
   ]
  },
  {
   "cell_type": "code",
   "execution_count": 81,
   "metadata": {
    "scrolled": true
   },
   "outputs": [
    {
     "data": {
      "text/plain": [
       "([0, 1], 2, 3, 4)"
      ]
     },
     "execution_count": 81,
     "metadata": {},
     "output_type": "execute_result"
    }
   ],
   "source": [
    "head, b, c, d"
   ]
  },
  {
   "cell_type": "markdown",
   "metadata": {},
   "source": [
    "### Nested Tuple Unpacking \n",
    "\n",
    "- a powerful feature of tuple unpacking is that it works with nested structures.\n",
    "\n",
    "Example 2-8. Unpacking nested tuples to access the longitude"
   ]
  },
  {
   "cell_type": "code",
   "execution_count": 93,
   "metadata": {},
   "outputs": [
    {
     "name": "stdout",
     "output_type": "stream",
     "text": [
      "                |   lat.    |   long.  \n"
     ]
    }
   ],
   "source": [
    "print('{:15} | {:^9} | {:^9}'.format(' ', 'lat.', 'long.'))"
   ]
  },
  {
   "cell_type": "markdown",
   "metadata": {},
   "source": [
    "**.format**\n",
    "\n",
    "- {:} -----   Use a space to insert an extra space before positive numbers (and a minus sign before negative numbers\n",
    "- {:^} ------- Center aligns the result (within the available space)"
   ]
  },
  {
   "cell_type": "code",
   "execution_count": 98,
   "metadata": {},
   "outputs": [
    {
     "name": "stdout",
     "output_type": "stream",
     "text": [
      "                |   lat.    |   long.  \n",
      "Mexico City     |   19.4333 |  -99.1333\n",
      "New York-Newark |   40.8086 |  -74.0204\n",
      "Sao Paulo       |  -23.5478 |  -46.6358\n"
     ]
    }
   ],
   "source": [
    "metro_areas = [\n",
    "('Tokyo', 'JP', 36.933, (35.689722, 139.691667)), \n",
    "('Delhi NCR', 'IN', 21.935, (28.613889, 77.208889)),\n",
    "('Mexico City', 'MX', 20.142, (19.433333, -99.133333)),\n",
    "('New York-Newark', 'US', 20.104, (40.808611, -74.020386)),\n",
    "('Sao Paulo', 'BR', 19.649, (-23.547778, -46.635833)),\n",
    "]\n",
    "print('{:15} | {:^9} | {:^9}'.format('', 'lat.', 'long.'))\n",
    "fmt = '{:15} | {:9.4f} | {:9.4f}'\n",
    "for name, cc, pop, (latitude, longitude) in metro_areas: #\n",
    "    if longitude <= 0: #\n",
    "        print(fmt.format(name, latitude, longitude))"
   ]
  },
  {
   "cell_type": "markdown",
   "metadata": {},
   "source": [
    "- Before Python 3, it was possible to define functions with nested tuples in the formal parameters (e.g., def fn(a, (b, c), d):).\n",
    "- This is no longer supported in Python 3 function definitions, for practical reasons explained in PEP 3113 — Removal of Tuple Parameter Unpacking.\n",
    "- To be clear: nothing changed from the perspective of users calling a function. The restriction applies only to the definition of functions."
   ]
  },
  {
   "cell_type": "markdown",
   "metadata": {},
   "source": [
    "### Named Tuples\n",
    "- tuples are very handy. But there is a missing feature when using them as records: sometimes it is desirable to name the fields. \n",
    "- That is why the namedtuple function was invented\n",
    "- The collections.namedtuple function is a factory that produces subclasses of tuple enhanced with field names and a class name—which helps debugging.\n",
    "- Instances of a class that you build with namedtuple take exactly the same amount of memory as tuples because the field names are stored in the class.\n",
    "- use less emory cause they dont store attributes in a per instance (\\__dict__\\)\n"
   ]
  },
  {
   "cell_type": "code",
   "execution_count": 99,
   "metadata": {},
   "outputs": [],
   "source": [
    "import collections"
   ]
  },
  {
   "cell_type": "code",
   "execution_count": 100,
   "metadata": {},
   "outputs": [],
   "source": [
    "Card = collections.namedtuple('Card', ['rank', 'suit'])"
   ]
  },
  {
   "cell_type": "code",
   "execution_count": 101,
   "metadata": {},
   "outputs": [
    {
     "data": {
      "text/plain": [
       "Card(rank='5', suit='speads')"
      ]
     },
     "execution_count": 101,
     "metadata": {},
     "output_type": "execute_result"
    }
   ],
   "source": [
    "Card('5','speads')"
   ]
  },
  {
   "cell_type": "markdown",
   "metadata": {},
   "source": [
    "Example 2-9. Defining and using a named tuple type"
   ]
  },
  {
   "cell_type": "code",
   "execution_count": 3,
   "metadata": {},
   "outputs": [
    {
     "data": {
      "text/plain": [
       "City(name='Tokyo', country='JP', population=36.933, coordinates=(35.689722, 139.691667))"
      ]
     },
     "execution_count": 3,
     "metadata": {},
     "output_type": "execute_result"
    }
   ],
   "source": [
    "from collections import namedtuple\n",
    "City = namedtuple('City', 'name country population coordinates')\n",
    "tokyo = City('Tokyo', 'JP', 36.933, (35.689722, 139.691667))\n",
    "tokyo"
   ]
  },
  {
   "cell_type": "code",
   "execution_count": 4,
   "metadata": {},
   "outputs": [
    {
     "data": {
      "text/plain": [
       "City(name='Seoul', country='FP', population=36.933, coordinates=(35.689722, 139.691667))"
      ]
     },
     "execution_count": 4,
     "metadata": {},
     "output_type": "execute_result"
    }
   ],
   "source": [
    "temp=City('Seoul','FP',36.933, (35.689722, 139.691667))\n",
    "temp"
   ]
  },
  {
   "cell_type": "code",
   "execution_count": 5,
   "metadata": {},
   "outputs": [
    {
     "data": {
      "text/plain": [
       "'Tokyo'"
      ]
     },
     "execution_count": 5,
     "metadata": {},
     "output_type": "execute_result"
    }
   ],
   "source": [
    "tokyo.name\n"
   ]
  },
  {
   "cell_type": "code",
   "execution_count": 6,
   "metadata": {},
   "outputs": [
    {
     "data": {
      "text/plain": [
       "36.933"
      ]
     },
     "execution_count": 6,
     "metadata": {},
     "output_type": "execute_result"
    }
   ],
   "source": [
    "tokyo.population"
   ]
  },
  {
   "cell_type": "code",
   "execution_count": 7,
   "metadata": {},
   "outputs": [
    {
     "data": {
      "text/plain": [
       "(35.689722, 139.691667)"
      ]
     },
     "execution_count": 7,
     "metadata": {},
     "output_type": "execute_result"
    }
   ],
   "source": [
    "tokyo.coordinates"
   ]
  },
  {
   "cell_type": "code",
   "execution_count": 8,
   "metadata": {},
   "outputs": [
    {
     "data": {
      "text/plain": [
       "'JP'"
      ]
     },
     "execution_count": 8,
     "metadata": {},
     "output_type": "execute_result"
    }
   ],
   "source": [
    "tokyo[1]"
   ]
  },
  {
   "cell_type": "markdown",
   "metadata": {},
   "source": [
    "Example 2-10. Named tuple attributes and methods (continued from the previous example)"
   ]
  },
  {
   "cell_type": "code",
   "execution_count": 9,
   "metadata": {},
   "outputs": [
    {
     "data": {
      "text/plain": [
       "('name', 'country', 'population', 'coordinates')"
      ]
     },
     "execution_count": 9,
     "metadata": {},
     "output_type": "execute_result"
    }
   ],
   "source": [
    "City._fields"
   ]
  },
  {
   "cell_type": "code",
   "execution_count": 10,
   "metadata": {},
   "outputs": [],
   "source": [
    "LatLong = namedtuple('LatLong', 'lat long')"
   ]
  },
  {
   "cell_type": "code",
   "execution_count": 11,
   "metadata": {},
   "outputs": [
    {
     "data": {
      "text/plain": [
       "LatLong(lat=35.987, long=36.678)"
      ]
     },
     "execution_count": 11,
     "metadata": {},
     "output_type": "execute_result"
    }
   ],
   "source": [
    "delhidata=LatLong(35.987,36.678)\n",
    "delhidata"
   ]
  },
  {
   "cell_type": "code",
   "execution_count": 12,
   "metadata": {},
   "outputs": [
    {
     "data": {
      "text/plain": [
       "('Delhi_NCR', 'IN', 21.935, LatLong(lat=28.613889, long=77.208889))"
      ]
     },
     "execution_count": 12,
     "metadata": {},
     "output_type": "execute_result"
    }
   ],
   "source": [
    "delhidata=('Delhi_NCR','IN',21.935,LatLong(28.613889, 77.208889))\n",
    "delhidata"
   ]
  },
  {
   "cell_type": "code",
   "execution_count": 13,
   "metadata": {},
   "outputs": [],
   "source": [
    "# make() allow you to instantiate a named tuple from an iterable; City(*delhidata) would do the same.\n",
    "delhi = City._make(delhidata) "
   ]
  },
  {
   "cell_type": "code",
   "execution_count": 14,
   "metadata": {},
   "outputs": [
    {
     "data": {
      "text/plain": [
       "OrderedDict([('name', 'Delhi_NCR'),\n",
       "             ('country', 'IN'),\n",
       "             ('population', 21.935),\n",
       "             ('coordinates', LatLong(lat=28.613889, long=77.208889))])"
      ]
     },
     "execution_count": 14,
     "metadata": {},
     "output_type": "execute_result"
    }
   ],
   "source": [
    "delhi._asdict()"
   ]
  },
  {
   "cell_type": "code",
   "execution_count": 16,
   "metadata": {},
   "outputs": [
    {
     "data": {
      "text/plain": [
       "collections.OrderedDict"
      ]
     },
     "execution_count": 16,
     "metadata": {},
     "output_type": "execute_result"
    }
   ],
   "source": [
    "type(delhi._asdict())"
   ]
  },
  {
   "cell_type": "code",
   "execution_count": 15,
   "metadata": {},
   "outputs": [
    {
     "name": "stdout",
     "output_type": "stream",
     "text": [
      "name: Delhi_NCR\n",
      "country: IN\n",
      "population: 21.935\n",
      "coordinates: LatLong(lat=28.613889, long=77.208889)\n"
     ]
    }
   ],
   "source": [
    "for key , value in delhi._asdict().items():\n",
    "    print(key+':',value)"
   ]
  },
  {
   "cell_type": "markdown",
   "metadata": {},
   "source": [
    "### Conclusion from above code\n",
    "\n",
    "- fields is a tuple with the field names of the class.\n",
    "\n",
    "- _make() allows to instantiate a named tuple from an iterable; City(*delhi_data) would do the same.\n",
    "\n",
    "- _asdict() returns a collections.OrderedDict built from the named tuple instance. That can be used to produce a nice display of city data.\n",
    "\n",
    "**This is the power of tuples as records, we can consider their second role as an immutable variant of the list type.**"
   ]
  },
  {
   "cell_type": "markdown",
   "metadata": {},
   "source": [
    "### Tuples as Immutable Lists\n",
    "\n",
    "- tuple supports all list methods that do not involve adding or removing items,\n",
    "\n",
    "- with one exception—tuple lacks the __reversed__ method.\n",
    "- that is just for optimization; reversed(my_tuple) works without it.\n",
    "\n",
    "Table 2-1. Methods and attributes found in list or tuple (methods implemented by object\n",
    "are omitted for brevity)\n",
    "\n",
    "**------------------------------ list tuple -----------------------**\n",
    "\n",
    "s.__add__(s2) &nbsp; &nbsp; **>>>>>>>>>>>>>>>>>>>>** &nbsp;&nbsp; s + s2—concatenation\n",
    "\n",
    "s.__iadd__(s2) &nbsp; &nbsp; **>>>>>>>>>>>>>>>>>>>>** &nbsp;&nbsp; s += s2—in-place concatenation\n",
    "\n",
    "s.append(e) &nbsp; &nbsp; **>>>>>>>>>>>>>>>>>>>>** &nbsp;&nbsp; Append one element after last\n",
    "\n",
    "s.clear() &nbsp; &nbsp; **>>>>>>>>>>>>>>>>>>>>** &nbsp;&nbsp; Delete all items\n",
    "\n",
    "s.__contains__(e) &nbsp; &nbsp; **>>>>>>>>>>>>>>>>>>>>** &nbsp;&nbsp; e in s\n",
    "\n",
    "s.copy() &nbsp; &nbsp; **>>>>>>>>>>>>>>>>>>>>** &nbsp;&nbsp; Shallow copy of the list\n",
    "\n",
    "s.count(e) &nbsp; &nbsp; **>>>>>>>>>>>>>>>>>>>>** &nbsp;&nbsp; Count occurrences of an element\n",
    "\n",
    "s.__delitem__(p) &nbsp; &nbsp; **>>>>>>>>>>>>>>>>>>>>** &nbsp;&nbsp; Remove item at position p\n",
    "\n",
    "s.extend(it) &nbsp; &nbsp; **>>>>>>>>>>>>>>>>>>>>** &nbsp;&nbsp; Append items from iterable it\n",
    "\n",
    "s.__getitem__(p) &nbsp; &nbsp; **>>>>>>>>>>>>>>>>>>>>** &nbsp;&nbsp;  s[p]—get item at position\n",
    "\n",
    "s.__getnewargs__() &nbsp; &nbsp; **>>>>>>>>>>>>>>>>>>>>** &nbsp;&nbsp; Support for optimized serialization with pickle\n",
    "\n",
    "s.index(e) &nbsp; &nbsp; **>>>>>>> >>>>>>>>>>>>>** &nbsp;&nbsp;  Find position of first occurrence of e\n",
    "\n",
    "s.insert(p, e) &nbsp; &nbsp; **>>>>>>>>>>>>>>>>>>>>** &nbsp;&nbsp;  Insert element e before the item at position p\n",
    "\n",
    "s.__iter__() &nbsp; &nbsp; **>>>>>>>>>>>>>>>>>>>>** &nbsp;&nbsp; Get iterator\n",
    "\n",
    "s.__len__() &nbsp; &nbsp; **>>>>>>>>>>>>>>>>>>>>** &nbsp;&nbsp; len(s)—number of items\n",
    "\n",
    "s.__mul__(n) &nbsp; &nbsp; **>>>>>>>>>>>>>>>>>>>>** &nbsp;&nbsp; s * n—repeated concatenation\n",
    "\n",
    "s.__imul__(n) &nbsp; &nbsp; **>>>>>>>>>>>>>>>>>>>>** &nbsp;&nbsp; s *= n—in-place repeated concatenation\n",
    "\n",
    "s.__rmul__(n) &nbsp; &nbsp; **>>>>>>>>>>>>>>>>>>>>** &nbsp;&nbsp; n * s—reversed repeated concatenationa\n",
    "\n",
    "s.pop([p]) &nbsp; &nbsp; **>>>>>>>>>>>>>>>>>>>>** &nbsp;&nbsp;Remove and return last item or item at optional position p\n",
    "\n",
    "s.remove(e) &nbsp; &nbsp; **>>>>>>>>>>>>>>>>>>>>** &nbsp;&nbsp; Remove first occurrence of element e by value\n",
    "\n",
    "s.reverse() &nbsp; &nbsp; **>>>>>>>>>>>>>>>>>>>>** &nbsp;&nbsp; Reverse the order of the items in place\n",
    "\n",
    "s.__reversed__() &nbsp; &nbsp; **>>>>>>>>>>>>>>>>>>>>** &nbsp;&nbsp; Get iterator to scan items from last to first\n",
    "\n",
    "s.__setitem__(p, e) &nbsp; &nbsp; **>>>>>>>>>>>>>>>>>>>>** &nbsp;&nbsp; s[p] = e—put e in position p, overwriting existing item\n",
    "\n",
    "s.sort([key], [reverse]) &nbsp; &nbsp; **>>>>>>>>>>>>>>>>>>>>** &nbsp;&nbsp; Sort items in place with optional keyword arguments key and reverse\n",
    "\n",
    "\n",
    "**Every Python programmer knows that sequences can be sliced using the s[a:b] syntax.\n",
    "We now turn to some less well-known facts about slicing.**"
   ]
  },
  {
   "cell_type": "markdown",
   "metadata": {},
   "source": [
    "### Slicing\n",
    "\n",
    "- A common feature of list, tuple, str, and all sequence types in Python is the support of slicing operations, which are more powerful than most people realize.\n"
   ]
  },
  {
   "cell_type": "markdown",
   "metadata": {},
   "source": [
    "### Why Slices and Range Exclude the Last Item\n",
    "\n",
    "- The Pythonic convention of excluding the last item in slices and ranges works well with the zero-based indexing used in Python, C, and many other languages. \n",
    "- Some convenient features of the convention are:\n",
    "    - It’s easy to see the length of a slice or range when only the stop position is given: range(3) and my_list[:3] both produce three items.\n",
    "    - It’s easy to compute the length of a slice or range when start and stop are given: just subtract stop - start.\n",
    "    - It’s easy to split a sequence in two parts at any index x, without overlapping: simply get my_list[:x] and my_list[x:]. For example:"
   ]
  },
  {
   "cell_type": "code",
   "execution_count": 17,
   "metadata": {},
   "outputs": [
    {
     "data": {
      "text/plain": [
       "[10, 20]"
      ]
     },
     "execution_count": 17,
     "metadata": {},
     "output_type": "execute_result"
    }
   ],
   "source": [
    "l=[10,20,30,50,60]\n",
    "l[:2]\n"
   ]
  },
  {
   "cell_type": "code",
   "execution_count": 18,
   "metadata": {},
   "outputs": [
    {
     "data": {
      "text/plain": [
       "[30, 50, 60]"
      ]
     },
     "execution_count": 18,
     "metadata": {},
     "output_type": "execute_result"
    }
   ],
   "source": [
    "l[2:]"
   ]
  },
  {
   "cell_type": "code",
   "execution_count": 19,
   "metadata": {},
   "outputs": [
    {
     "data": {
      "text/plain": [
       "[10, 20, 30]"
      ]
     },
     "execution_count": 19,
     "metadata": {},
     "output_type": "execute_result"
    }
   ],
   "source": [
    "l[:3]"
   ]
  },
  {
   "cell_type": "code",
   "execution_count": 20,
   "metadata": {},
   "outputs": [
    {
     "data": {
      "text/plain": [
       "[50, 60]"
      ]
     },
     "execution_count": 20,
     "metadata": {},
     "output_type": "execute_result"
    }
   ],
   "source": [
    "l[3:]"
   ]
  },
  {
   "cell_type": "markdown",
   "metadata": {},
   "source": [
    "**But the best arguments for this convention were written by the Dutch computer scientist\n",
    "Edsger W. Dijkstra**"
   ]
  },
  {
   "cell_type": "markdown",
   "metadata": {},
   "source": [
    "### Slice Objects\n",
    "\n",
    "- This is no secret, but worth repeating just in case: s[a:b:c] can be used to specify a stride or step c, causing the resulting slice to skip items. \n",
    "- The stride can also be negative, returning items in reverse. Three examples make this clear:"
   ]
  },
  {
   "cell_type": "code",
   "execution_count": 21,
   "metadata": {},
   "outputs": [
    {
     "data": {
      "text/plain": [
       "'bye'"
      ]
     },
     "execution_count": 21,
     "metadata": {},
     "output_type": "execute_result"
    }
   ],
   "source": [
    "s='bicycle'\n",
    "s[::3]"
   ]
  },
  {
   "cell_type": "code",
   "execution_count": 22,
   "metadata": {},
   "outputs": [
    {
     "data": {
      "text/plain": [
       "'elcycib'"
      ]
     },
     "execution_count": 22,
     "metadata": {},
     "output_type": "execute_result"
    }
   ],
   "source": [
    "s[::-1]"
   ]
  },
  {
   "cell_type": "code",
   "execution_count": 23,
   "metadata": {},
   "outputs": [
    {
     "data": {
      "text/plain": [
       "'bicycl'"
      ]
     },
     "execution_count": 23,
     "metadata": {},
     "output_type": "execute_result"
    }
   ],
   "source": [
    "s[:-1]"
   ]
  },
  {
   "cell_type": "code",
   "execution_count": 25,
   "metadata": {},
   "outputs": [
    {
     "data": {
      "text/plain": [
       "'bicycle'"
      ]
     },
     "execution_count": 25,
     "metadata": {},
     "output_type": "execute_result"
    }
   ],
   "source": [
    "s[::1]"
   ]
  },
  {
   "cell_type": "code",
   "execution_count": 24,
   "metadata": {},
   "outputs": [
    {
     "data": {
      "text/plain": [
       "'eccb'"
      ]
     },
     "execution_count": 24,
     "metadata": {},
     "output_type": "execute_result"
    }
   ],
   "source": [
    "s[::-2]"
   ]
  },
  {
   "cell_type": "code",
   "execution_count": 34,
   "metadata": {},
   "outputs": [
    {
     "data": {
      "text/plain": [
       "[Card(rank='A', suite='spades'),\n",
       " Card(rank='A', suite='diamonds'),\n",
       " Card(rank='A', suite='clubs'),\n",
       " Card(rank='A', suite='hearts')]"
      ]
     },
     "execution_count": 34,
     "metadata": {},
     "output_type": "execute_result"
    }
   ],
   "source": [
    "deck[12::13]"
   ]
  },
  {
   "cell_type": "markdown",
   "metadata": {},
   "source": [
    "- to evaluate the expression seq[start:stop:step], \n",
    "- Python callsseq.__getitem__(slice(start, stop, step))."
   ]
  },
  {
   "cell_type": "code",
   "execution_count": 86,
   "metadata": {},
   "outputs": [],
   "source": [
    "invoice = \"\"\"\n",
    "0.....6.................................40........52...55........\n",
    "1909  Pimoroni PiBrella                   $17.50     3   $52.50\n",
    "1489  6mm Tactile Switch x20              $4.95      2   $9.90\n",
    "1510  Panavise Jr. - PV-201               $28.00     1   $28.00\n",
    "1601 PiTFT Mini Kit 320x240               $34.95     1   $34.95\n",
    "\"\"\"\n",
    "SKU=slice(0,6)"
   ]
  },
  {
   "cell_type": "code",
   "execution_count": 87,
   "metadata": {},
   "outputs": [
    {
     "data": {
      "text/plain": [
       "slice(0, 6, None)"
      ]
     },
     "execution_count": 87,
     "metadata": {},
     "output_type": "execute_result"
    }
   ],
   "source": [
    "\n",
    "SKU"
   ]
  },
  {
   "cell_type": "code",
   "execution_count": 88,
   "metadata": {},
   "outputs": [],
   "source": [
    "DESCRIPTION = slice(6, 40)"
   ]
  },
  {
   "cell_type": "code",
   "execution_count": 89,
   "metadata": {},
   "outputs": [],
   "source": [
    "UNIT_PRICE = slice(40, 52)"
   ]
  },
  {
   "cell_type": "code",
   "execution_count": 90,
   "metadata": {},
   "outputs": [],
   "source": [
    "QUANTITY = slice(52, 55)"
   ]
  },
  {
   "cell_type": "code",
   "execution_count": 91,
   "metadata": {},
   "outputs": [],
   "source": [
    "ITEM_TOTAL = slice(55, None)"
   ]
  },
  {
   "cell_type": "code",
   "execution_count": 92,
   "metadata": {},
   "outputs": [],
   "source": [
    "line_items = invoice.split('\\n')[2:]"
   ]
  },
  {
   "cell_type": "code",
   "execution_count": 93,
   "metadata": {},
   "outputs": [
    {
     "data": {
      "text/plain": [
       "['1909  Pimoroni PiBrella                   $17.50     3   $52.50',\n",
       " '1489  6mm Tactile Switch x20              $4.95      2   $9.90',\n",
       " '1510  Panavise Jr. - PV-201               $28.00     1   $28.00',\n",
       " '1601 PiTFT Mini Kit 320x240               $34.95     1   $34.95',\n",
       " '']"
      ]
     },
     "execution_count": 93,
     "metadata": {},
     "output_type": "execute_result"
    }
   ],
   "source": [
    "line_items"
   ]
  },
  {
   "cell_type": "code",
   "execution_count": 94,
   "metadata": {},
   "outputs": [
    {
     "name": "stdout",
     "output_type": "stream",
     "text": [
      "  $17.50     Pimoroni PiBrella                 \n",
      "  $4.95      6mm Tactile Switch x20            \n",
      "  $28.00     Panavise Jr. - PV-201             \n",
      "  $34.95     iTFT Mini Kit 320x240             \n",
      " \n"
     ]
    }
   ],
   "source": [
    "for item in line_items:\n",
    "     print(item[UNIT_PRICE], item[DESCRIPTION])"
   ]
  },
  {
   "cell_type": "markdown",
   "metadata": {},
   "source": [
    " ### Multidimensional Slicing and Ellipsis\n",
    " \n",
    " - The [] operator can also take multiple indexes or slices separated by commas\n",
    " \n",
    " - where items of a two-dimensional numpy.ndarray can be fetched using the syntax a[i, j] and a two-dimensional slice obtained with an expression like a[m:n, k:l]\n",
    " \n",
    " - The __getitem__ and __setitem__ special methods that handle the [] operator simply receive the indices in a[i, j] as a tuple\n",
    " \n",
    " - In other words, to evaluate a[i, j], Python calls a.__getitem__((i, j)).\n",
    " \n",
    " - The built-in sequence types in Python are one-dimensional, so they support only one index or slice, and not a tuple of them."
   ]
  },
  {
   "cell_type": "markdown",
   "metadata": {},
   "source": [
    "### Assigning to Slices\n",
    "\n",
    "Mutable sequences can be grafted, excised, and otherwise modified in place using slice notation on the left side of an assignment statement or as the target of a del statement.\n",
    "The next few examples give an idea of the power of this notation"
   ]
  },
  {
   "cell_type": "code",
   "execution_count": 96,
   "metadata": {},
   "outputs": [],
   "source": [
    "l = list(range(10))"
   ]
  },
  {
   "cell_type": "code",
   "execution_count": 97,
   "metadata": {},
   "outputs": [
    {
     "data": {
      "text/plain": [
       "[0, 1, 2, 3, 4, 5, 6, 7, 8, 9]"
      ]
     },
     "execution_count": 97,
     "metadata": {},
     "output_type": "execute_result"
    }
   ],
   "source": [
    "l"
   ]
  },
  {
   "cell_type": "code",
   "execution_count": 98,
   "metadata": {},
   "outputs": [],
   "source": [
    "l[2:5] = [20, 30]"
   ]
  },
  {
   "cell_type": "code",
   "execution_count": 99,
   "metadata": {},
   "outputs": [
    {
     "data": {
      "text/plain": [
       "[0, 1, 20, 30, 5, 6, 7, 8, 9]"
      ]
     },
     "execution_count": 99,
     "metadata": {},
     "output_type": "execute_result"
    }
   ],
   "source": [
    "l"
   ]
  },
  {
   "cell_type": "code",
   "execution_count": 100,
   "metadata": {},
   "outputs": [],
   "source": [
    "del l[5:7]"
   ]
  },
  {
   "cell_type": "code",
   "execution_count": 101,
   "metadata": {},
   "outputs": [
    {
     "data": {
      "text/plain": [
       "[0, 1, 20, 30, 5, 8, 9]"
      ]
     },
     "execution_count": 101,
     "metadata": {},
     "output_type": "execute_result"
    }
   ],
   "source": [
    "l"
   ]
  },
  {
   "cell_type": "code",
   "execution_count": 102,
   "metadata": {},
   "outputs": [],
   "source": [
    "l[3::2] = [11, 22]"
   ]
  },
  {
   "cell_type": "code",
   "execution_count": 103,
   "metadata": {},
   "outputs": [
    {
     "data": {
      "text/plain": [
       "[0, 1, 20, 11, 5, 22, 9]"
      ]
     },
     "execution_count": 103,
     "metadata": {},
     "output_type": "execute_result"
    }
   ],
   "source": [
    "l"
   ]
  },
  {
   "cell_type": "code",
   "execution_count": 105,
   "metadata": {},
   "outputs": [],
   "source": [
    "l[2:5] = [100]"
   ]
  },
  {
   "cell_type": "code",
   "execution_count": 106,
   "metadata": {},
   "outputs": [
    {
     "data": {
      "text/plain": [
       "[0, 1, 100, 22, 9]"
      ]
     },
     "execution_count": 106,
     "metadata": {},
     "output_type": "execute_result"
    }
   ],
   "source": [
    "l"
   ]
  },
  {
   "cell_type": "markdown",
   "metadata": {},
   "source": [
    "### Using + and * with Sequences"
   ]
  },
  {
   "cell_type": "code",
   "execution_count": 107,
   "metadata": {},
   "outputs": [
    {
     "data": {
      "text/plain": [
       "[1, 2, 3, 1, 2, 3, 1, 2, 3, 1, 2, 3, 1, 2, 3]"
      ]
     },
     "execution_count": 107,
     "metadata": {},
     "output_type": "execute_result"
    }
   ],
   "source": [
    "l=[1,2,3]\n",
    "l * 5 "
   ]
  },
  {
   "cell_type": "code",
   "execution_count": 108,
   "metadata": {},
   "outputs": [
    {
     "data": {
      "text/plain": [
       "'abcdabcdabcdabcdabcd'"
      ]
     },
     "execution_count": 108,
     "metadata": {},
     "output_type": "execute_result"
    }
   ],
   "source": [
    "5 * 'abcd'"
   ]
  },
  {
   "cell_type": "markdown",
   "metadata": {},
   "source": [
    "Both + and * always create a new object, and never change their operands.\n",
    "\n",
    "Beware of expressions like a * n when a is a sequence containing\n",
    "mutable items because the result may surprising. \n",
    "\n",
    "For example,\n",
    "trying to initialize a list of lists as my_list = [[]] * 3 will\n",
    "result in a list with three references to the same inner list, which is\n",
    "probably not what you want\n"
   ]
  },
  {
   "cell_type": "markdown",
   "metadata": {},
   "source": [
    "### Building Lists of Lists\n",
    "Sometimes we need to initialize a list with a certain number of nested lists—for example,\n",
    "to distribute students in a list of teams or to represent squares on a game board.\n",
    "\n",
    "Example 2-12. A list with three lists of length 3 can represent a tic-tac-toe board\n"
   ]
  },
  {
   "cell_type": "code",
   "execution_count": 26,
   "metadata": {},
   "outputs": [
    {
     "data": {
      "text/plain": [
       "[['_', '_', '_'], ['_', '_', '_'], ['_', '_', '_']]"
      ]
     },
     "execution_count": 26,
     "metadata": {},
     "output_type": "execute_result"
    }
   ],
   "source": [
    "board = [['_'] * 3 for i in range(3)]\n",
    "board\n"
   ]
  },
  {
   "cell_type": "code",
   "execution_count": 27,
   "metadata": {},
   "outputs": [
    {
     "data": {
      "text/plain": [
       "[['_', '_', '_'], ['_', '_', 'X'], ['_', '_', '_']]"
      ]
     },
     "execution_count": 27,
     "metadata": {},
     "output_type": "execute_result"
    }
   ],
   "source": [
    "board[1][2] = 'X'\n",
    "board\n",
    " "
   ]
  },
  {
   "cell_type": "code",
   "execution_count": 28,
   "metadata": {},
   "outputs": [
    {
     "data": {
      "text/plain": [
       "[['X', '_', '_'], ['_', '_', 'X'], ['_', '_', '_']]"
      ]
     },
     "execution_count": 28,
     "metadata": {},
     "output_type": "execute_result"
    }
   ],
   "source": [
    "board [0][0]='X'\n",
    "board"
   ]
  },
  {
   "cell_type": "code",
   "execution_count": 29,
   "metadata": {},
   "outputs": [
    {
     "data": {
      "text/plain": [
       "['_', '_', '_']"
      ]
     },
     "execution_count": 29,
     "metadata": {},
     "output_type": "execute_result"
    }
   ],
   "source": [
    "['_'] * 3"
   ]
  },
  {
   "cell_type": "code",
   "execution_count": 30,
   "metadata": {},
   "outputs": [
    {
     "name": "stdout",
     "output_type": "stream",
     "text": [
      "0 [['_', '_', '_']]\n",
      "1 [['_', '_', '_'], ['_', '_', '_']]\n",
      "2 [['_', '_', '_'], ['_', '_', '_'], ['_', '_', '_']]\n"
     ]
    }
   ],
   "source": [
    "b=[]\n",
    "for i in range(3):\n",
    "    b+=[['_'] * 3]\n",
    "    print(i,b)"
   ]
  },
  {
   "cell_type": "code",
   "execution_count": 31,
   "metadata": {},
   "outputs": [
    {
     "data": {
      "text/plain": [
       "[['_', '_', '_'], ['_', '_', '_'], ['_', '_', '_']]"
      ]
     },
     "execution_count": 31,
     "metadata": {},
     "output_type": "execute_result"
    }
   ],
   "source": [
    "b"
   ]
  },
  {
   "cell_type": "code",
   "execution_count": 32,
   "metadata": {},
   "outputs": [
    {
     "data": {
      "text/plain": [
       "[['_', '_', '_'], ['_', '_', '_'], ['_', '_', '_']]"
      ]
     },
     "execution_count": 32,
     "metadata": {},
     "output_type": "execute_result"
    }
   ],
   "source": [
    "[['_'] * 3 for i in range(3)]"
   ]
  },
  {
   "cell_type": "markdown",
   "metadata": {},
   "source": [
    "A tempting but wrong shortcut is doing it like Example 2-13.\n",
    "\n",
    "Example 2-13. A list with three references to the same list is useless"
   ]
  },
  {
   "cell_type": "code",
   "execution_count": 33,
   "metadata": {},
   "outputs": [
    {
     "data": {
      "text/plain": [
       "[['_', '_', '_'], ['_', '_', '_'], ['_', '_', '_']]"
      ]
     },
     "execution_count": 33,
     "metadata": {},
     "output_type": "execute_result"
    }
   ],
   "source": [
    "weird_board = [['_'] * 3] * 3\n",
    "weird_board\n"
   ]
  },
  {
   "cell_type": "code",
   "execution_count": 34,
   "metadata": {},
   "outputs": [
    {
     "data": {
      "text/plain": [
       "[['_', '_', 'O'], ['_', '_', 'O'], ['_', '_', 'O']]"
      ]
     },
     "execution_count": 34,
     "metadata": {},
     "output_type": "execute_result"
    }
   ],
   "source": [
    "weird_board[1][2] = 'O'\n",
    "weird_board\n",
    " "
   ]
  },
  {
   "cell_type": "markdown",
   "metadata": {},
   "source": [
    "Placing a mark in row 1, column 2, reveals that all rows are aliases referring to\n",
    "the same object.\n",
    "\n",
    "The code earlier this , changed only object in position of [1][2]. But here it ttreats the all the object same \n",
    "\n",
    "The problem with Example 2-13 is that, in essence, it behaves like this code:"
   ]
  },
  {
   "cell_type": "code",
   "execution_count": 44,
   "metadata": {},
   "outputs": [],
   "source": [
    "row = ['_'] * 3\n",
    "board = []\n",
    "for i in range(3):\n",
    "    board.append(row)"
   ]
  },
  {
   "cell_type": "code",
   "execution_count": 45,
   "metadata": {},
   "outputs": [
    {
     "data": {
      "text/plain": [
       "[['_', '_', '_'], ['_', '_', '_'], ['_', '_', '_']]"
      ]
     },
     "execution_count": 45,
     "metadata": {},
     "output_type": "execute_result"
    }
   ],
   "source": [
    "board"
   ]
  },
  {
   "cell_type": "code",
   "execution_count": 46,
   "metadata": {},
   "outputs": [
    {
     "data": {
      "text/plain": [
       "[['X', '_', '_'], ['X', '_', '_'], ['X', '_', '_']]"
      ]
     },
     "execution_count": 46,
     "metadata": {},
     "output_type": "execute_result"
    }
   ],
   "source": [
    "board[2][0]='X'\n",
    "board"
   ]
  },
  {
   "cell_type": "code",
   "execution_count": 52,
   "metadata": {},
   "outputs": [
    {
     "data": {
      "text/plain": [
       "[5, 3, 10, 20]"
      ]
     },
     "execution_count": 52,
     "metadata": {},
     "output_type": "execute_result"
    }
   ],
   "source": [
    "b=[5] +[3] +[10,20]\n",
    "b"
   ]
  },
  {
   "cell_type": "code",
   "execution_count": 58,
   "metadata": {},
   "outputs": [
    {
     "data": {
      "text/plain": [
       "[[5, 3], 10, 20]"
      ]
     },
     "execution_count": 58,
     "metadata": {},
     "output_type": "execute_result"
    }
   ],
   "source": [
    "b=[[5] +[3]] +[10,20]\n",
    "b"
   ]
  },
  {
   "cell_type": "code",
   "execution_count": 57,
   "metadata": {},
   "outputs": [
    {
     "data": {
      "text/plain": [
       "[[5, 6], [5, 6], [5, 6]]"
      ]
     },
     "execution_count": 57,
     "metadata": {},
     "output_type": "execute_result"
    }
   ],
   "source": [
    "b=[[5,6]] * 3\n",
    "b"
   ]
  },
  {
   "cell_type": "markdown",
   "metadata": {},
   "source": [
    "So far we have discussed the use of the plain + and * operators with sequences, but there\n",
    "are also the += and *= operators, which produce very different results depending on the\n",
    "mutability of the target sequence. The following section explains how that works."
   ]
  },
  {
   "cell_type": "markdown",
   "metadata": {},
   "source": [
    "### Augmented Assignment with Sequences\n",
    "\n",
    "- The augmented assignment operators += and *= behave very differently depending on\n",
    "the first operand\n",
    "- we will focus on augmented addition first\n",
    "(+=), but the concepts also apply to *= and to other augmented assignment operators\n",
    "- Special Method For this :\n",
    "    - special method that makes += work is __iadd__ (for “in-place addition”).\n",
    "- However, if __iadd__ is not implemented, Python falls back to calling __add__.\n",
    "\n",
    "**What happens (\\__iadd__\\)**\n",
    "\n",
    "- If a implements (\\__iadd__\\), that will be called. In the case of mutable sequences (e.g.,list, bytearray, array.array), a will be changed in place (i.e., the effect will be similar to a.extend(b)). \n",
    "\n",
    "- However, when a does not implement (\\__iadd__\\), the expression a +=\n",
    "b has the same effect as a = a + b\n",
    "\n",
    "- In general, for mutable sequences, it is a good bet that (\\__iadd__\\) is implemented and\n",
    "that += happens in place. For immutable sequences, clearly there is no way for that to\n",
    "happen.\n"
   ]
  },
  {
   "cell_type": "code",
   "execution_count": 60,
   "metadata": {},
   "outputs": [
    {
     "ename": "NameError",
     "evalue": "name 'a' is not defined",
     "output_type": "error",
     "traceback": [
      "\u001b[1;31m---------------------------------------------------------------------------\u001b[0m",
      "\u001b[1;31mNameError\u001b[0m                                 Traceback (most recent call last)",
      "\u001b[1;32m<ipython-input-60-294cacd62d6f>\u001b[0m in \u001b[0;36m<module>\u001b[1;34m\u001b[0m\n\u001b[1;32m----> 1\u001b[1;33m \u001b[0ma\u001b[0m \u001b[1;33m+=\u001b[0m \u001b[0mb\u001b[0m\u001b[1;33m\u001b[0m\u001b[1;33m\u001b[0m\u001b[0m\n\u001b[0m",
      "\u001b[1;31mNameError\u001b[0m: name 'a' is not defined"
     ]
    }
   ],
   "source": [
    "a += b"
   ]
  },
  {
   "cell_type": "code",
   "execution_count": 63,
   "metadata": {},
   "outputs": [
    {
     "data": {
      "text/plain": [
       "2824811042568"
      ]
     },
     "execution_count": 63,
     "metadata": {},
     "output_type": "execute_result"
    }
   ],
   "source": [
    "l = [1, 2, 3]\n",
    "id(l)"
   ]
  },
  {
   "cell_type": "code",
   "execution_count": 64,
   "metadata": {},
   "outputs": [
    {
     "ename": "TypeError",
     "evalue": "'int' object is not iterable",
     "output_type": "error",
     "traceback": [
      "\u001b[1;31m---------------------------------------------------------------------------\u001b[0m",
      "\u001b[1;31mTypeError\u001b[0m                                 Traceback (most recent call last)",
      "\u001b[1;32m<ipython-input-64-a19f4a8cd311>\u001b[0m in \u001b[0;36m<module>\u001b[1;34m\u001b[0m\n\u001b[1;32m----> 1\u001b[1;33m \u001b[0ml\u001b[0m \u001b[1;33m+=\u001b[0m \u001b[1;36m3\u001b[0m\u001b[1;33m\u001b[0m\u001b[1;33m\u001b[0m\u001b[0m\n\u001b[0m",
      "\u001b[1;31mTypeError\u001b[0m: 'int' object is not iterable"
     ]
    }
   ],
   "source": [
    "l += 3"
   ]
  },
  {
   "cell_type": "code",
   "execution_count": 61,
   "metadata": {},
   "outputs": [],
   "source": [
    "l *= 2"
   ]
  },
  {
   "cell_type": "code",
   "execution_count": 62,
   "metadata": {},
   "outputs": [
    {
     "data": {
      "text/plain": [
       "[1, 2, 3, 1, 2, 3]"
      ]
     },
     "execution_count": 62,
     "metadata": {},
     "output_type": "execute_result"
    }
   ],
   "source": [
    "l"
   ]
  },
  {
   "cell_type": "code",
   "execution_count": 65,
   "metadata": {},
   "outputs": [
    {
     "data": {
      "text/plain": [
       "2824811042568"
      ]
     },
     "execution_count": 65,
     "metadata": {},
     "output_type": "execute_result"
    }
   ],
   "source": [
    "id(l)"
   ]
  },
  {
   "cell_type": "code",
   "execution_count": 66,
   "metadata": {},
   "outputs": [],
   "source": [
    "t=(1,2,3)"
   ]
  },
  {
   "cell_type": "code",
   "execution_count": 67,
   "metadata": {},
   "outputs": [
    {
     "data": {
      "text/plain": [
       "2824810122920"
      ]
     },
     "execution_count": 67,
     "metadata": {},
     "output_type": "execute_result"
    }
   ],
   "source": [
    "id(t)"
   ]
  },
  {
   "cell_type": "code",
   "execution_count": 68,
   "metadata": {},
   "outputs": [],
   "source": [
    "t *= 2"
   ]
  },
  {
   "cell_type": "code",
   "execution_count": 69,
   "metadata": {},
   "outputs": [
    {
     "data": {
      "text/plain": [
       "(1, 2, 3, 1, 2, 3)"
      ]
     },
     "execution_count": 69,
     "metadata": {},
     "output_type": "execute_result"
    }
   ],
   "source": [
    "t"
   ]
  },
  {
   "cell_type": "code",
   "execution_count": 70,
   "metadata": {},
   "outputs": [
    {
     "data": {
      "text/plain": [
       "2824810089064"
      ]
     },
     "execution_count": 70,
     "metadata": {},
     "output_type": "execute_result"
    }
   ],
   "source": [
    "id(t)"
   ]
  },
  {
   "cell_type": "markdown",
   "metadata": {},
   "source": [
    "Conclusion : \n",
    "- After multiplication of the list, the list is the same object, with new items appended\n",
    "[as the id is the same]\n",
    "\n",
    "- After multiplication of the tuple , a new tuple was created [as the id is the diff]\n",
    "\n",
    "**Note: Repeated concatenation of immutable sequences is inefficient, because instead of just\n",
    "appending new items, the interpreter has to copy the whole target sequence to create a\n",
    "new one with the new items concatenated.**"
   ]
  },
  {
   "cell_type": "markdown",
   "metadata": {},
   "source": [
    "### A += Assignment Puzzler\n",
    "\n",
    "Example 2-14. A riddle"
   ]
  },
  {
   "cell_type": "code",
   "execution_count": 73,
   "metadata": {},
   "outputs": [
    {
     "ename": "TypeError",
     "evalue": "'tuple' object does not support item assignment",
     "output_type": "error",
     "traceback": [
      "\u001b[1;31m---------------------------------------------------------------------------\u001b[0m",
      "\u001b[1;31mTypeError\u001b[0m                                 Traceback (most recent call last)",
      "\u001b[1;32m<ipython-input-73-12c9daaeb286>\u001b[0m in \u001b[0;36m<module>\u001b[1;34m\u001b[0m\n\u001b[0;32m      1\u001b[0m \u001b[1;31m# TypeError is raised with the message 'tuple' object does not support item assignment.\u001b[0m\u001b[1;33m\u001b[0m\u001b[1;33m\u001b[0m\u001b[1;33m\u001b[0m\u001b[0m\n\u001b[0;32m      2\u001b[0m \u001b[0mt\u001b[0m \u001b[1;33m=\u001b[0m \u001b[1;33m(\u001b[0m\u001b[1;36m1\u001b[0m\u001b[1;33m,\u001b[0m \u001b[1;36m2\u001b[0m\u001b[1;33m,\u001b[0m \u001b[1;33m[\u001b[0m\u001b[1;36m30\u001b[0m\u001b[1;33m,\u001b[0m \u001b[1;36m40\u001b[0m\u001b[1;33m]\u001b[0m\u001b[1;33m)\u001b[0m\u001b[1;33m\u001b[0m\u001b[1;33m\u001b[0m\u001b[0m\n\u001b[1;32m----> 3\u001b[1;33m \u001b[0mt\u001b[0m\u001b[1;33m[\u001b[0m\u001b[1;36m2\u001b[0m\u001b[1;33m]\u001b[0m\u001b[1;33m+=\u001b[0m\u001b[1;33m[\u001b[0m\u001b[1;36m50\u001b[0m\u001b[1;33m,\u001b[0m\u001b[1;36m60\u001b[0m\u001b[1;33m]\u001b[0m\u001b[1;33m\u001b[0m\u001b[1;33m\u001b[0m\u001b[0m\n\u001b[0m",
      "\u001b[1;31mTypeError\u001b[0m: 'tuple' object does not support item assignment"
     ]
    }
   ],
   "source": [
    "# TypeError is raised with the message 'tuple' object does not support item assignment.\n",
    "t = (1, 2, [30, 40]) \n",
    "t[2]+=[50,60]"
   ]
  },
  {
   "cell_type": "code",
   "execution_count": 74,
   "metadata": {},
   "outputs": [
    {
     "data": {
      "text/plain": [
       "(1, 2, [30, 40, 50, 60])"
      ]
     },
     "execution_count": 74,
     "metadata": {},
     "output_type": "execute_result"
    }
   ],
   "source": [
    "t"
   ]
  },
  {
   "attachments": {
    "image.png": {
     "image/png": "[encoded data removed]"
    }
   },
   "cell_type": "markdown",
   "metadata": {},
   "source": [
    "**after t = (1, 2, [30, 40])  executed the visualisation is :**\n",
    "\n",
    "![image.png](attachment:image.png)"
   ]
  },
  {
   "attachments": {
    "image.png": {
     "image/png": "[encoded data removed]"
    }
   },
   "cell_type": "markdown",
   "metadata": {},
   "source": [
    "\n",
    "**after t[2]+=[50,60] executed visualisation is**\n",
    "\n",
    "\n",
    "![image.png](attachment:image.png)\n",
    "\n",
    "**so the answer is , t will become (1, 2, [30, 40, 50, 60]) and also TypeError is raised with the message 'tuple' object does not support item assignment.**"
   ]
  },
  {
   "cell_type": "code",
   "execution_count": 76,
   "metadata": {},
   "outputs": [
    {
     "name": "stdout",
     "output_type": "stream",
     "text": [
      "  1           0 LOAD_NAME                0 (s)\n",
      "              2 LOAD_NAME                1 (a)\n",
      "              4 DUP_TOP_TWO\n",
      "              6 BINARY_SUBSCR\n",
      "              8 LOAD_NAME                2 (b)\n",
      "             10 INPLACE_ADD\n",
      "             12 ROT_THREE\n",
      "             14 STORE_SUBSCR\n",
      "             16 LOAD_CONST               0 (None)\n",
      "             18 RETURN_VALUE\n"
     ]
    }
   ],
   "source": [
    "import dis \n",
    "dis.dis('s[a] += b')"
   ]
  },
  {
   "cell_type": "markdown",
   "metadata": {},
   "source": [
    "### Conclusion \n",
    "\n",
    "- Put the value of s[a] on TOS (Top Of Stack).\n",
    "- Perform TOS += b. This succeeds if TOS refers to a mutable object (it’s a list, in\n",
    "Example 2-15).\n",
    "- Assign s[a] = TOS. This fails if s is immutable (the t tuple in Example 2-15)\n",
    "\n",
    "### 3 Lessons :\n",
    "- Putting mutable items in tuples is not a good idea.Augmented Assignment with Sequences  \n",
    "- Augmented assignment is not an atomic operation—we just saw it throwing an exception after doing part of its job.\n",
    "- Inspecting Python bytecode is not too difficult, and is often helpful to see what is going on under the hood. "
   ]
  },
  {
   "cell_type": "code",
   "execution_count": null,
   "metadata": {},
   "outputs": [],
   "source": []
  }
 ],
 "metadata": {
  "kernelspec": {
   "display_name": "Python 3",
   "language": "python",
   "name": "python3"
  },
  "language_info": {
   "codemirror_mode": {
    "name": "ipython",
    "version": 3
   },
   "file_extension": ".py",
   "mimetype": "text/x-python",
   "name": "python",
   "nbconvert_exporter": "python",
   "pygments_lexer": "ipython3",
   "version": "3.7.4"
  }
 },
 "nbformat": 4,
 "nbformat_minor": 2
}
