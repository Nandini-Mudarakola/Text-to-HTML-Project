{
  "nbformat": 4,
  "nbformat_minor": 0,
  "metadata": {
    "colab": {
      "name": "vec2wav",
      "provenance": [],
      "authorship_tag": "ABX9TyPK+yZASA+YHru8i/39eSKa",
      "include_colab_link": true
    },
    "kernelspec": {
      "name": "python3",
      "display_name": "Python 3"
    },
    "language_info": {
      "name": "python"
    }
  },
  "cells": [
    {
      "cell_type": "markdown",
      "metadata": {
        "id": "view-in-github",
        "colab_type": "text"
      },
      "source": [
        "<a href=\"https://colab.research.google.com/github/NafuKrypto/Python-Project/blob/main/vec2wav.ipynb\" target=\"_parent\"><img src=\"https://colab.research.google.com/assets/colab-badge.svg\" alt=\"Open In Colab\"/></a>"
      ]
    },
    {
      "cell_type": "code",
      "execution_count": null,
      "metadata": {
        "id": "lvdIv6hTuXVW"
      },
      "outputs": [],
      "source": [
        "import numpy as np\n",
        "from scipy.io.wavfile import write\n",
        "\n",
        "data = np.random.uniform(-1,1,44100) # 44100 random samples between -1 and 1\n",
        "scaled = np.int16(data/np.max(np.abs(data)) * 32767)\n",
        "write('test.wav', 44100, scaled)"
      ]
    },
    {
      "cell_type": "code",
      "source": [
        "from scipy.io.wavfile import read\n",
        "import sys\n",
        "import numpy as np\n",
        "a = read(\"recording1.wav\")\n",
        "np.set_printoptions(threshold=sys.maxsize)\n",
        "var1=np.array(a[1],dtype=float)\n",
        "\n",
        "b = read(\"ed_sheran.wav\")\n",
        "np.set_printoptions(threshold=sys.maxsize)\n",
        "var2=np.array(b[1],dtype=float)\n",
        "\n",
        " "
      ],
      "metadata": {
        "id": "13520dX1xOqw"
      },
      "execution_count": 23,
      "outputs": []
    },
    {
      "cell_type": "code",
      "source": [
        "import numpy as np\n",
        "from scipy.io.wavfile import write\n",
        "\n",
        "#data = np.random.uniform(-1,1,44100) # 44100 random samples between -1 and 1\n",
        "scaled = np.int16(var/np.max(np.abs(var)) * 32767)\n",
        "write('test.wav', 44100, scaled)"
      ],
      "metadata": {
        "id": "plNOJgInybCi"
      },
      "execution_count": 12,
      "outputs": []
    },
    {
      "cell_type": "code",
      "source": [
        "print(type(a))"
      ],
      "metadata": {
        "colab": {
          "base_uri": "https://localhost:8080/"
        },
        "id": "cbpfXu8q44wt",
        "outputId": "978f99e8-9c5e-41ee-b260-ccdc4dfd7037"
      },
      "execution_count": 25,
      "outputs": [
        {
          "output_type": "stream",
          "name": "stdout",
          "text": [
            "<class 'tuple'>\n"
          ]
        }
      ]
    },
    {
      "cell_type": "code",
      "source": [
        "#print(var)"
      ],
      "metadata": {
        "id": "Qst84RRAzkdL"
      },
      "execution_count": 17,
      "outputs": []
    },
    {
      "cell_type": "code",
      "source": [
        "from sklearn.metrics.pairwise import cosine_similarity\n",
        "\n",
        "first_speaker=np.reshape(var1, (-1, 1)).T\n",
        "second_speaker=np.reshape(var2, (-1, 1)).T\n",
        "#print(\"haha\")\n",
        "result_cos_sim=cosine_similarity(first_speaker,second_speaker)\n",
        "\n",
        "print(result_cos_sim)\n",
        "if result_cos_sim>=0.96:\n",
        "    print( \"Both speakers are the same\")\n",
        "elif result_cos_sim<0.96:\n",
        "    print(\"Both speakers are not the same\")  "
      ],
      "metadata": {
        "colab": {
          "base_uri": "https://localhost:8080/"
        },
        "id": "mvCJ-1v-0ZTE",
        "outputId": "0fef8913-de43-4ad6-e33a-3fddba970a61"
      },
      "execution_count": 22,
      "outputs": [
        {
          "output_type": "stream",
          "name": "stdout",
          "text": [
            "[[-0.03544582]]\n",
            "Both speakers are not the same\n"
          ]
        }
      ]
    },
    {
      "cell_type": "code",
      "source": [
        "for i in range (0,2):\n",
        "    \n",
        "    input(\"Press enter to record  voice\")\n",
        "    print(\"speak now....\")\n",
        "    \n",
        "    # Start recorder with the given values\n",
        "    # of duration and sample frequency\n",
        "    recording = sd.rec(int(duration * freq),\n",
        "    \t\t\t\tsamplerate=freq, channels=1)\n",
        "    \n",
        "    # Record audio for the given number of seconds\n",
        "    sd.wait()\n",
        "    #taking input of speakers name\n",
        "    print(\"Enter a speaker's labeling or name in string.Don't give the same label even if the speaker's  are the same\")\n",
        "    input_label = input()\n",
        "    speakers.append(input_label)"
      ],
      "metadata": {
        "id": "UwPCbh-S1lJj"
      },
      "execution_count": null,
      "outputs": []
    }
  ]
}